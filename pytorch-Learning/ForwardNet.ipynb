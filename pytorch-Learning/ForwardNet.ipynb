{
 "cells": [
  {
   "cell_type": "markdown",
   "metadata": {
    "collapsed": true
   },
   "source": [
    "# 单层前向神经网络例子"
   ]
  },
  {
   "cell_type": "code",
   "execution_count": 2,
   "metadata": {},
   "outputs": [],
   "source": [
    "import torch"
   ]
  },
  {
   "cell_type": "code",
   "execution_count": 16,
   "metadata": {},
   "outputs": [
    {
     "name": "stdout",
     "output_type": "stream",
     "text": [
      "0 29354564.0\n20 272370.1875\n40 38350.5390625\n60 8370.1767578125\n80 2262.49853515625\n100 694.3679809570312\n120 230.3604736328125\n140 80.29074096679688\n160 28.973861694335938\n180 10.727495193481445\n200 4.051109313964844\n220 1.5543962717056274\n240 0.6047776341438293\n"
     ]
    },
    {
     "name": "stdout",
     "output_type": "stream",
     "text": [
      "260 0.23779287934303284\n280 0.09440027177333832\n300 0.037795063108205795\n320 0.01533600315451622\n340 0.006372262258082628\n360 0.002778454218059778\n380 0.0013103475794196129\n400 0.0006788184982724488\n420 0.0003836988762486726\n440 0.00023478207003790885\n460 0.00015404449368361384\n480"
     ]
    },
    {
     "name": "stdout",
     "output_type": "stream",
     "text": [
      " 0.00010569652658887208\n"
     ]
    }
   ],
   "source": [
    "# 样本数，样本维度，隐藏层维度，输出层维度\n",
    "N, D_in, H, D_out = 64, 1000, 100, 10 \n",
    "\n",
    "x = torch.randn(N, D_in)\n",
    "y = torch.randn(N, D_out)\n",
    "\n",
    "w1 = torch.randn(D_in, H, requires_grad = True)\n",
    "w2 = torch.randn(H, D_out, requires_grad = True)\n",
    "\n",
    "learning_rate = 1e-6\n",
    "for i in range(500):\n",
    "    y_pred = x.mm(w1).clamp(min=0).mm(w2)\n",
    "    \n",
    "    loss = (y_pred - y).pow(2).sum()\n",
    "    if i % 20 == 0:\n",
    "        print(i, loss.item())\n",
    "    loss.backward()\n",
    "    \n",
    "    with torch.no_grad():\n",
    "        w1 -= w1.grad*learning_rate\n",
    "        w2 -= w2.grad*learning_rate\n",
    "        # grad清零  因为已经为W权重重新赋值了。\n",
    "        # 否则下次反向传播时又会带上上一次的grad结果\n",
    "        w1.grad.zero_()\n",
    "        w2.grad.zero_()\n",
    "    "
   ]
  },
  {
   "cell_type": "code",
   "execution_count": null,
   "metadata": {},
   "outputs": [],
   "source": []
  }
 ],
 "metadata": {
  "kernelspec": {
   "display_name": "Python 2",
   "language": "python",
   "name": "python2"
  },
  "language_info": {
   "codemirror_mode": {
    "name": "ipython",
    "version": 2
   },
   "file_extension": ".py",
   "mimetype": "text/x-python",
   "name": "python",
   "nbconvert_exporter": "python",
   "pygments_lexer": "ipython2",
   "version": "2.7.6"
  }
 },
 "nbformat": 4,
 "nbformat_minor": 0
}
