{
 "cells": [
  {
   "cell_type": "markdown",
   "metadata": {
    "collapsed": true
   },
   "source": [
    "# 单层前向神经网络例子"
   ]
  },
  {
   "cell_type": "code",
   "execution_count": 2,
   "metadata": {},
   "outputs": [],
   "source": [
    "import torch"
   ]
  },
  {
   "cell_type": "code",
   "execution_count": 16,
   "metadata": {},
   "outputs": [
    {
     "name": "stdout",
     "output_type": "stream",
     "text": [
      "0 29354564.0\n20 272370.1875\n40 38350.5390625\n60 8370.1767578125\n80 2262.49853515625\n100 694.3679809570312\n120 230.3604736328125\n140 80.29074096679688\n160 28.973861694335938\n180 10.727495193481445\n200 4.051109313964844\n220 1.5543962717056274\n240 0.6047776341438293\n"
     ]
    },
    {
     "name": "stdout",
     "output_type": "stream",
     "text": [
      "260 0.23779287934303284\n280 0.09440027177333832\n300 0.037795063108205795\n320 0.01533600315451622\n340 0.006372262258082628\n360 0.002778454218059778\n380 0.0013103475794196129\n400 0.0006788184982724488\n420 0.0003836988762486726\n440 0.00023478207003790885\n460 0.00015404449368361384\n480"
     ]
    },
    {
     "name": "stdout",
     "output_type": "stream",
     "text": [
      " 0.00010569652658887208\n"
     ]
    }
   ],
   "source": [
    "# 样本数，样本维度，隐藏层维度，输出层维度\n",
    "N, D_in, H, D_out = 64, 1000, 100, 10 \n",
    "\n",
    "x = torch.randn(N, D_in)\n",
    "y = torch.randn(N, D_out)\n",
    "\n",
    "w1 = torch.randn(D_in, H, requires_grad = True)\n",
    "w2 = torch.randn(H, D_out, requires_grad = True)\n",
    "\n",
    "learning_rate = 1e-6\n",
    "for i in range(500):\n",
    "    y_pred = x.mm(w1).clamp(min=0).mm(w2)\n",
    "    \n",
    "    loss = (y_pred - y).pow(2).sum()\n",
    "    if i % 20 == 0:\n",
    "        print(i, loss.item())\n",
    "    loss.backward()\n",
    "    \n",
    "    with torch.no_grad():\n",
    "        w1 -= w1.grad*learning_rate\n",
    "        w2 -= w2.grad*learning_rate\n",
    "        # grad清零  因为已经为W权重重新赋值了。\n",
    "        # 否则下次反向传播时又会带上上一次的grad结果\n",
    "        w1.grad.zero_()\n",
    "        w2.grad.zero_()\n",
    "    "
   ]
  },
  {
   "cell_type": "markdown",
   "metadata": {},
   "source": [
    "# 使用nn包构建前向网络"
   ]
  },
  {
   "cell_type": "code",
   "execution_count": 17,
   "metadata": {},
   "outputs": [],
   "source": [
    "import torch.nn as nn\n"
   ]
  },
  {
   "cell_type": "code",
   "execution_count": 21,
   "metadata": {},
   "outputs": [
    {
     "name": "stdout",
     "output_type": "stream",
     "text": [
      "0 644.4891967773438\n20 176.6575927734375\n40 48.838409423828125\n60 13.813834190368652\n80 4.492364883422852\n100 1.6898926496505737\n120 0.7162458300590515\n140 0.3351461589336395\n160 0.1701829731464386\n180 0.09293076395988464\n200"
     ]
    },
    {
     "name": "stdout",
     "output_type": "stream",
     "text": [
      " 0.05348130315542221\n220 0.03208024799823761\n240 0.0198835376650095\n260 0.01264018565416336\n280 0.008199227973818779\n300 0.005406938958913088\n320 0.003610269632190466\n340 0.0024333088658750057\n360 0.001651531900279224\n380"
     ]
    },
    {
     "name": "stdout",
     "output_type": "stream",
     "text": [
      " 0.0011269977549090981\n400 0.0007722655427642167\n420 0.0005309298285283148\n440 0.0003659167850855738\n460 0.000252686848398298\n480 0.00017476141510996968\n"
     ]
    }
   ],
   "source": [
    "# 样本数，样本维度，隐藏层维度，输出层维度\n",
    "N, D_in, H, D_out = 64, 1000, 100, 10 \n",
    "\n",
    "x = torch.randn(N, D_in)\n",
    "y = torch.randn(N, D_out)\n",
    "\n",
    "model = nn.Sequential(\n",
    "    nn.Linear(D_in, H),\n",
    "    nn.ReLU(),\n",
    "    nn.Linear(H, D_out)\n",
    ")\n",
    "loss_fn = nn.MSELoss(reduction=\"sum\")\n",
    "\n",
    "learning_rate = 1e-4\n",
    "for i in range(500):\n",
    "    y_pred = model(x)\n",
    "    loss = loss_fn(y_pred, y)\n",
    "    \n",
    "    if i % 20 == 0:\n",
    "        print(i, loss.item())\n",
    "        \n",
    "    model.zero_grad()\n",
    "    \n",
    "    loss.backward()\n",
    "    \n",
    "    with torch.no_grad():\n",
    "        for para in model.parameters():\n",
    "            para -= para.grad * learning_rate\n"
   ]
  },
  {
   "cell_type": "code",
   "execution_count": null,
   "metadata": {},
   "outputs": [],
   "source": []
  }
 ],
 "metadata": {
  "kernelspec": {
   "display_name": "Python 2",
   "language": "python",
   "name": "python2"
  },
  "language_info": {
   "codemirror_mode": {
    "name": "ipython",
    "version": 2
   },
   "file_extension": ".py",
   "mimetype": "text/x-python",
   "name": "python",
   "nbconvert_exporter": "python",
   "pygments_lexer": "ipython2",
   "version": "2.7.6"
  }
 },
 "nbformat": 4,
 "nbformat_minor": 0
}
