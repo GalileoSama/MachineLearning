{
 "cells": [
  {
   "cell_type": "code",
   "execution_count": 18,
   "metadata": {
    "collapsed": true
   },
   "outputs": [
    {
     "name": "stdout",
     "output_type": "stream",
     "text": [
      "Files already downloaded and verified\n"
     ]
    }
   ],
   "source": [
    "import torch\n",
    "import torch.nn as nn\n",
    "import torchvision\n",
    "import torchvision.transforms as transfrorms\n",
    "import torch.utils.data as data\n",
    "device = torch.device('cuda:0' if torch.cuda.is_available() else 'cpu')\n",
    "# 超参数\n",
    "num_classes = 10\n",
    "num_epoch = 5\n",
    "batch_size = 100\n",
    "learning_rate = 1e-4\n",
    "\n",
    "# 数据加载\n",
    "# dataset\n",
    "train_data = torchvision.datasets.CIFAR10(\n",
    "    root='pytorch-Learning/data/CIFAR-10',\n",
    "    train=True,\n",
    "    transform=transfrorms.ToTensor(),\n",
    "    download=True\n",
    ")\n",
    "test_data = torchvision.datasets.CIFAR10(\n",
    "    root='pytorch-Learning/data/CIFAR-10',\n",
    "    train=False,\n",
    "    transform=transfrorms.ToTensor()\n",
    ")\n",
    "# dataloader\n",
    "train_loader = data.DataLoader(\n",
    "    dataset=train_data,\n",
    "    batch_size=batch_size,  # 批大小，用于每次训练的样本数量\n",
    "    shuffle=True  # 每步迭代时，要打乱dataset的顺序来取出batch_size个样本\n",
    ")\n",
    "test_loader = data.DataLoader(\n",
    "    dataset=test_data,\n",
    "    batch_size=batch_size,  # 批大小，用于每次训练的样本数量\n",
    "    shuffle=False  # 每步迭代时，不要打乱dataset的顺序来取出batch_size个样本\n",
    ")"
   ]
  },
  {
   "cell_type": "code",
   "execution_count": 17,
   "metadata": {},
   "outputs": [],
   "source": [
    ""
   ]
  },
  {
   "cell_type": "code",
   "execution_count": 4,
   "metadata": {},
   "outputs": [],
   "source": [
    "# 定义3x3卷积层\n",
    "def conv3x3(in_channels, out_channels, stride=1):\n",
    "    return nn.Conv2d(in_channels=in_channels, out_channels=out_channels, stride=stride, \n",
    "                     padding=1, bias=False, kernel_size=3)\n",
    "\n",
    "# 残差块\n",
    "class ResidualBlock(nn.Module):\n",
    "    def __init__(self, in_channels, out_channels, stride=1, downsample=None):\n",
    "        self.con1 = conv3x3(in_channels, out_channels)\n",
    "        self.bn1 = nn.BatchNorm2d(out_channels)\n",
    "        # inplace=True 表直接覆盖原变量，可减少内存消耗，不影响结果\n",
    "        self.relu = nn.ReLU(inplace=True) \n",
    "        self.con2 = conv3x3(out_channels, out_channels)\n",
    "        self.bn2 = nn.BatchNorm2d(out_channels)\n",
    "        self.downsample = downsample\n",
    "        \n",
    "    def forward(self, x):\n",
    "        residual = x\n",
    "        out = self.con1(x)\n",
    "        out = self.bn1(out)\n",
    "        out = self.relu(out)\n",
    "        out = self.con2(out)\n",
    "        out = self.bn2(out)\n",
    "        if self.downsample:\n",
    "            residual = self.downsample(x)\n",
    "        out += residual\n",
    "        out = self.relu(out)\n",
    "        return out\n"
   ]
  },
  {
   "cell_type": "code",
   "execution_count": null,
   "metadata": {},
   "outputs": [],
   "source": []
  }
 ],
 "metadata": {
  "kernelspec": {
   "display_name": "Python 2",
   "language": "python",
   "name": "python2"
  },
  "language_info": {
   "codemirror_mode": {
    "name": "ipython",
    "version": 2
   },
   "file_extension": ".py",
   "mimetype": "text/x-python",
   "name": "python",
   "nbconvert_exporter": "python",
   "pygments_lexer": "ipython2",
   "version": "2.7.6"
  }
 },
 "nbformat": 4,
 "nbformat_minor": 0
}
