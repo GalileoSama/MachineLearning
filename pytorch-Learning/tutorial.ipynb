{
 "cells": [
  {
   "cell_type": "code",
   "execution_count": 17,
   "metadata": {
    "collapsed": true
   },
   "outputs": [],
   "source": [
    "import torch\n",
    "import torch.nn as nn"
   ]
  },
  {
   "cell_type": "code",
   "execution_count": 11,
   "metadata": {},
   "outputs": [],
   "source": [
    "x = torch.tensor(1., requires_grad = True)\n",
    "w = torch.tensor(2., requires_grad = True)\n",
    "b = torch.tensor(3., requires_grad = True)"
   ]
  },
  {
   "cell_type": "code",
   "execution_count": 13,
   "metadata": {},
   "outputs": [],
   "source": [
    "y = w*x + b\n",
    "y.backward()"
   ]
  },
  {
   "cell_type": "code",
   "execution_count": 37,
   "metadata": {},
   "outputs": [
    {
     "name": "stdout",
     "output_type": "stream",
     "text": [
      "None\ntensor(1.)\ntensor(1.)\n"
     ]
    }
   ],
   "source": [
    "print(x.grad)\n",
    "print(w.grad)\n",
    "print(b.grad)"
   ]
  },
  {
   "cell_type": "code",
   "execution_count": 42,
   "metadata": {},
   "outputs": [
    {
     "name": "stdout",
     "output_type": "stream",
     "text": [
      "Parameter containing:\ntensor([[ 0.3153, -0.0369,  0.5598],\n        [ 0.0326,  0.5248, -0.0057]], requires_grad=True)\nParameter containing:\ntensor([0.5059, 0.0343], requires_grad=True)\n"
     ]
    }
   ],
   "source": [
    "x = torch.randn(10, 3)\n",
    "y = torch.randn(10, 2)\n",
    "# 实例化模型\n",
    "linear = nn.Linear(3, 2)\n",
    "print(linear.weight)\n",
    "print(linear.bias)\n",
    "# 实例化目标函数、优化器\n",
    "criterion = nn.MSELoss()\n",
    "optimizer = torch.optim.SGD(linear.parameters(), lr=0.01)"
   ]
  },
  {
   "cell_type": "code",
   "execution_count": 43,
   "metadata": {},
   "outputs": [
    {
     "name": "stdout",
     "output_type": "stream",
     "text": [
      "before train .loss: 32.376705169677734\n"
     ]
    }
   ],
   "source": [
    "y_pre = linear(x)\n",
    "loss = criterion(y, y_pre)\n",
    "\n",
    "print('before train .loss:', loss.item())"
   ]
  },
  {
   "cell_type": "code",
   "execution_count": 44,
   "metadata": {},
   "outputs": [
    {
     "name": "stdout",
     "output_type": "stream",
     "text": [
      "dw: tensor([[ 3.3697, -0.6791,  8.8961],\n        [ 0.1031, 14.8054, 11.4115]])\ndb: tensor([13.3412,  3.5310])\nParameter containing:\ntensor([[ 0.3153, -0.0369,  0.5598],\n        [ 0.0326,  0.5248, -0.0057]], requires_grad=True)\nParameter containing:\ntensor([0.5059, 0.0343], requires_grad=True)\n"
     ]
    }
   ],
   "source": [
    "# 开始训练\n",
    "loss.backward()\n",
    "print('dw:', linear.weight.grad)\n",
    "print('db:', linear.bias.grad)\n",
    "\n",
    "print(linear.weight)\n",
    "print(linear.bias)"
   ]
  },
  {
   "cell_type": "code",
   "execution_count": 45,
   "metadata": {},
   "outputs": [
    {
     "name": "stdout",
     "output_type": "stream",
     "text": [
      "Parameter containing:\ntensor([[ 0.2816, -0.0302,  0.4708],\n        [ 0.0316,  0.3768, -0.1199]], requires_grad=True)\nParameter containing:\ntensor([ 0.3725, -0.0010], requires_grad=True)\n"
     ]
    }
   ],
   "source": [
    "optimizer.step()\n",
    "print(linear.weight)\n",
    "print(linear.bias)"
   ]
  },
  {
   "cell_type": "code",
   "execution_count": 46,
   "metadata": {},
   "outputs": [
    {
     "name": "stdout",
     "output_type": "stream",
     "text": [
      "after 1 train .loss: 26.88092803955078\n"
     ]
    }
   ],
   "source": [
    "y_pre = linear(x)\n",
    "loss = criterion(y, y_pre)\n",
    "print('after 1 train .loss:', loss.item())"
   ]
  },
  {
   "cell_type": "code",
   "execution_count": 47,
   "metadata": {},
   "outputs": [
    {
     "name": "stdout",
     "output_type": "stream",
     "text": [
      "Epoch [5/60], Loss: 12.9725\nEpoch [10/60], Loss: 5.3567\nEpoch [15/60], Loss: 2.2713\nEpoch [20/60], Loss: 1.0214\nEpoch [25/60], Loss: 0.5151\nEpoch [30/60], Loss: 0.3099\nEpoch [35/60], Loss: 0.2268\nEpoch [40/60], Loss: 0.1932\nEpoch [45/60], Loss: 0.1795\nEpoch [50/60], Loss: 0.1740\nEpoch [55/60], Loss: 0.1717\nEpoch [60/60], Loss: 0.1708\n"
     ]
    },
    {
     "data": {
      "text/plain": [
       "<Figure size 640x480 with 1 Axes>"
      ]
     },
     "execution_count": 0,
     "metadata": {},
     "output_type": "execute_result"
    }
   ],
   "source": [
    ""
   ]
  },
  {
   "cell_type": "code",
   "execution_count": null,
   "metadata": {},
   "outputs": [],
   "source": []
  }
 ],
 "metadata": {
  "kernelspec": {
   "display_name": "Python 2",
   "language": "python",
   "name": "python2"
  },
  "language_info": {
   "codemirror_mode": {
    "name": "ipython",
    "version": 2
   },
   "file_extension": ".py",
   "mimetype": "text/x-python",
   "name": "python",
   "nbconvert_exporter": "python",
   "pygments_lexer": "ipython2",
   "version": "2.7.6"
  }
 },
 "nbformat": 4,
 "nbformat_minor": 0
}
