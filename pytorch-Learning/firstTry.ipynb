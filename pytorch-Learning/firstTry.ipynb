{
 "cells": [
  {
   "cell_type": "markdown",
   "metadata": {},
   "source": [
    "#快速入门学习"
   ]
  },
  {
   "cell_type": "code",
   "execution_count": 2,
   "metadata": {},
   "outputs": [],
   "source": [
    "import torch.nn as nn\n",
    "import torch.nn.functional as F\n",
    "import torch"
   ]
  },
  {
   "cell_type": "code",
   "execution_count": 3,
   "metadata": {},
   "outputs": [],
   "source": [
    "class Net(nn.Module):\n",
    "    def __init__(self):\n",
    "        super(Net, self).__init__()\n",
    "        self.conv1 = nn.Conv2d(1, 6, 5)\n",
    "        self.conv2 = nn.Conv2d(6, 16, 5)\n",
    "        self.fc1 = nn.Linear(400, 120)\n",
    "        self.fc2 = nn.Linear(120, 84)\n",
    "        self.fc3 = nn.Linear(84, 10)\n",
    "    \n",
    "    def forward(self, x):\n",
    "        x = F.max_pool2d(F.relu(self.conv1(x)),(2, 2))\n",
    "        x = F.max_pool2d(F.relu(self.conv2(x)), 2)\n",
    "        x = x.view(x.size()[0], -1)\n",
    "        x = F.relu(self.fc1(x))\n",
    "        x = F.relu(self.fc2(x))\n",
    "        x = self.fc3(x)\n",
    "        return x"
   ]
  },
  {
   "cell_type": "code",
   "execution_count": 4,
   "metadata": {},
   "outputs": [
    {
     "data": {
      "text/plain": [
       "Net(\n  (conv1): Conv2d(1, 6, kernel_size=(5, 5), stride=(1, 1))\n  (conv2): Conv2d(6, 16, kernel_size=(5, 5), stride=(1, 1))\n  (fc1): Linear(in_features=400, out_features=120, bias=True)\n  (fc2): Linear(in_features=120, out_features=84, bias=True)\n  (fc3): Linear(in_features=84, out_features=10, bias=True)\n)"
      ]
     },
     "execution_count": 4,
     "metadata": {},
     "output_type": "execute_result"
    }
   ],
   "source": [
    "net = Net()\n",
    "net"
   ]
  },
  {
   "cell_type": "code",
   "execution_count": 119,
   "metadata": {},
   "outputs": [
    {
     "data": {
      "text/plain": [
       "10"
      ]
     },
     "execution_count": 119,
     "metadata": {},
     "output_type": "execute_result"
    }
   ],
   "source": [
    "params = list(net.parameters())\n",
    "len(params)"
   ]
  },
  {
   "cell_type": "code",
   "execution_count": 120,
   "metadata": {},
   "outputs": [
    {
     "name": "stdout",
     "output_type": "stream",
     "text": [
      "conv1.weight : torch.Size([6, 1, 5, 5])\nconv1.bias : torch.Size([6])\nconv2.weight : torch.Size([16, 6, 5, 5])\nconv2.bias : torch.Size([16])\nfc1.weight : torch.Size([120, 400])\nfc1.bias : torch.Size([120])\nfc2.weight : torch.Size([84, 120])\nfc2.bias : torch.Size([84])\nfc3.weight : torch.Size([10, 84])\nfc3.bias : torch.Size([10])\n"
     ]
    }
   ],
   "source": [
    "for name,parameters in net.named_parameters():\n",
    "    print(name,':',parameters.size())"
   ]
  },
  {
   "cell_type": "code",
   "execution_count": 130,
   "metadata": {},
   "outputs": [
    {
     "data": {
      "text/plain": [
       "tensor([[[[0.9513, 0.1093, 0.9682,  ..., 0.0078, 0.4766, 0.2446],\n          [0.0557, 0.7372, 0.2865,  ..., 0.5191, 0.3048, 0.1408],\n          [0.1185, 0.6232, 0.2900,  ..., 0.1532, 0.0260, 0.1603],\n          ...,\n          [0.4650, 0.6343, 0.8266,  ..., 0.8655, 0.7047, 0.4117],\n          [0.4140, 0.1417, 0.9218,  ..., 0.0671, 0.5497, 0.6754],\n          [0.9763, 0.2659, 0.9302,  ..., 0.3597, 0.1949, 0.7750]]]])"
      ]
     },
     "execution_count": 130,
     "metadata": {},
     "output_type": "execute_result"
    }
   ],
   "source": [
    "input = torch.rand(1, 1, 32, 32)\n",
    "input"
   ]
  },
  {
   "cell_type": "code",
   "execution_count": 133,
   "metadata": {},
   "outputs": [
    {
     "data": {
      "text/plain": [
       "tensor([[-0.0499,  0.0261, -0.0247,  0.0880,  0.0321,  0.0525, -0.0984, -0.0518,\n          0.1050,  0.0382]], grad_fn=<ThAddmmBackward>)"
      ]
     },
     "execution_count": 133,
     "metadata": {},
     "output_type": "execute_result"
    }
   ],
   "source": [
    "out = net.forward(input)\n",
    "out"
   ]
  },
  {
   "cell_type": "markdown",
   "metadata": {},
   "source": [
    "#tensor学习\n"
   ]
  },
  {
   "cell_type": "code",
   "execution_count": 142,
   "metadata": {},
   "outputs": [
    {
     "name": "stdout",
     "output_type": "stream",
     "text": [
      "a: tensor([1.0000, 1.5000, 2.0000, 2.5000, 3.0000, 3.5000, 4.0000, 4.5000])\nb: tensor([1.0000, 1.8000, 2.6000, 3.4000, 4.2000, 5.0000])\n"
     ]
    }
   ],
   "source": [
    "# arrange 与 linspace 的区别如下\n",
    "a = torch.arange(1, 5, 0.5)\n",
    "b = torch.linspace(1, 5, 6)\n",
    "print(\"a:\", a)\n",
    "print(\"b:\", b)"
   ]
  },
  {
   "cell_type": "code",
   "execution_count": 149,
   "metadata": {},
   "outputs": [
    {
     "name": "stdout",
     "output_type": "stream",
     "text": [
      "[[1.0, 2.0, 3.0], [3.0, 4.0, 5.0]]\n"
     ]
    }
   ],
   "source": [
    "# 创建tensor 以list\n",
    "a = [[1,2,3],[3,4,5]]\n",
    "a = torch.Tensor(a)\n",
    "print(a.tolist())    # list 与 tensor相互转换"
   ]
  },
  {
   "cell_type": "code",
   "execution_count": 167,
   "metadata": {},
   "outputs": [
    {
     "name": "stdout",
     "output_type": "stream",
     "text": [
      "True\n"
     ]
    }
   ],
   "source": [
    "# 以成员元素具体值来创建Tensor\n",
    "# () [] 创建结果相同\n",
    "c = torch.Tensor(((1, 3), (2, 3)))\n",
    "d = torch.Tensor([[1, 3],[2, 3]])\n",
    "\n",
    "print(c.equal(d))"
   ]
  },
  {
   "cell_type": "code",
   "execution_count": 174,
   "metadata": {},
   "outputs": [
    {
     "name": "stdout",
     "output_type": "stream",
     "text": [
      "tensor([-0.5737, -1.1302, -0.4247, -0.3141,  0.4999])\ntensor([0.3303, 0.1534, 0.5441, 0.7393, 0.7936])\n"
     ]
    }
   ],
   "source": [
    "# 区别：分布不同，randn是标准正态，rand是均匀分布\n",
    "e = torch.randn(5)\n",
    "f = torch.rand(5)\n",
    "print(e)\n",
    "print(f)"
   ]
  },
  {
   "cell_type": "code",
   "execution_count": 185,
   "metadata": {},
   "outputs": [
    {
     "name": "stdout",
     "output_type": "stream",
     "text": [
      "torch.Size([])\ntorch.Size([1])\ntorch.Size([2])\ntorch.Size([1, 3])\n"
     ]
    }
   ],
   "source": [
    "# tensor 与 Tensor\n",
    "# tensor 的操作基本类似于 numpy\n",
    "scalar = torch.tensor(1)\n",
    "h = torch.Tensor(1)\n",
    "print(scalar.shape)\n",
    "print(h.shape)\n",
    "\n",
    "vector = torch.tensor([1, 3])     # 不可以torch.tensor(1, 3) \n",
    "tensor = torch.Tensor(1, 3)\n",
    "print(vector.shape)\n",
    "print(tensor.shape)"
   ]
  },
  {
   "cell_type": "code",
   "execution_count": 191,
   "metadata": {},
   "outputs": [
    {
     "data": {
      "text/plain": [
       "True"
      ]
     },
     "execution_count": 191,
     "metadata": {},
     "output_type": "execute_result"
    }
   ],
   "source": [
    "# tensor 对比 Tensor\n",
    "empty_tensor = t.tensor([])\n",
    "empty_Tensor = t.Tensor([])\n",
    "empty_tensor.shape == empty_Tensor.shape"
   ]
  },
  {
   "cell_type": "markdown",
   "metadata": {},
   "source": [
    "##tensor维度操作：view、squeeze、unsqueeze、resize(可超过、少于本tensor的维度)  \n",
    "##非inplace操作,对应的 xxx_()为inplace操作"
   ]
  },
  {
   "cell_type": "code",
   "execution_count": 251,
   "metadata": {},
   "outputs": [
    {
     "data": {
      "text/plain": [
       "torch.Size([2, 2])"
      ]
     },
     "execution_count": 251,
     "metadata": {},
     "output_type": "execute_result"
    }
   ],
   "source": [
    "a = torch.arange(0, 4)\n",
    "b = a.view(-1, 2)           # view、unsqueeze非inplace操作\n",
    "b.shape"
   ]
  },
  {
   "cell_type": "code",
   "execution_count": 270,
   "metadata": {},
   "outputs": [
    {
     "data": {
      "text/plain": [
       "torch.Size([2, 2, 1])"
      ]
     },
     "execution_count": 270,
     "metadata": {},
     "output_type": "execute_result"
    }
   ],
   "source": [
    "b.shape\n",
    "c = b.unsqueeze(2)\n",
    "c.shape     # 在位置1处增加了一维（0/1/2）"
   ]
  },
  {
   "cell_type": "code",
   "execution_count": 279,
   "metadata": {},
   "outputs": [
    {
     "name": "stdout",
     "output_type": "stream",
     "text": [
      "torch.Size([1, 4])\n"
     ]
    }
   ],
   "source": [
    "b = a.unsqueeze(0).shape\n"
   ]
  },
  {
   "cell_type": "code",
   "execution_count": null,
   "metadata": {},
   "outputs": [],
   "source": []
  }
 ],
 "metadata": {
  "kernelspec": {
   "display_name": "Python 2",
   "language": "python",
   "name": "python2"
  },
  "language_info": {
   "codemirror_mode": {
    "name": "ipython",
    "version": 2
   },
   "file_extension": ".py",
   "mimetype": "text/x-python",
   "name": "python",
   "nbconvert_exporter": "python",
   "pygments_lexer": "ipython2",
   "version": "2.7.6"
  }
 },
 "nbformat": 4,
 "nbformat_minor": 0
}
