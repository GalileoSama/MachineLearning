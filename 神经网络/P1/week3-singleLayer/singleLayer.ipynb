{
 "cells": [
  {
   "cell_type": "code",
   "execution_count": 1,
   "metadata": {
    "collapsed": true
   },
   "outputs": [],
   "source": [
    "import numpy as np"
   ]
  },
  {
   "cell_type": "code",
   "execution_count": 2,
   "metadata": {},
   "outputs": [],
   "source": [
    "def structure(X, Y):\n",
    "    \"\"\"\n",
    "    指定输入层、隐藏层、输出层参数个数、定义神经网络结构\n",
    "    :param X: 输入训练样本\n",
    "    :param Y: 输出\n",
    "    :return: 输入层、隐藏层、输出层\n",
    "    \"\"\"\n",
    "    nx = X.shape[0]\n",
    "    nh = 4\n",
    "    ny = Y.shape[0]\n",
    "    return nx, nh, ny"
   ]
  },
  {
   "cell_type": "code",
   "execution_count": 5,
   "metadata": {},
   "outputs": [],
   "source": [
    "def init_para(nx, nh, ny):\n",
    "    \"\"\"\n",
    "    初始化参数\n",
    "    :param nx: 输入层参数个数\n",
    "    :param nh: 隐藏层参数个数\n",
    "    :param ny: 输出层参数个数\n",
    "    :return: \n",
    "    \"\"\"\n",
    "    np.random.seed(2)  # 可回溯的随机(可选)\n",
    "    W1 = np.random.randn(nh, nx)\n",
    "    b1 = np.random.randn(nh, 1)\n",
    "    W2 = np.random.randn(ny, nh)\n",
    "    b2 = np.random.randn(ny, 1)\n",
    "    \n",
    "    assert (W1.shape == (nh, nx))   # 验证维度\n",
    "    paras = {\n",
    "        \"W1\": W1,\n",
    "        \"b1\": b1,\n",
    "        \"W2\": W2,\n",
    "        \"b2\": b2\n",
    "    }\n",
    "    return paras"
   ]
  },
  {
   "cell_type": "code",
   "execution_count": 6,
   "metadata": {},
   "outputs": [],
   "source": [
    "def sigmoid(x):\n",
    "    \"\"\"\n",
    "    Compute the sigmoid of x\n",
    "\n",
    "    Arguments:\n",
    "    x -- A scalar or numpy array of any size.\n",
    "\n",
    "    Return:\n",
    "    s -- sigmoid(x)\n",
    "    \"\"\"\n",
    "    s = 1/(1+np.exp(-x))\n",
    "    return s"
   ]
  },
  {
   "cell_type": "code",
   "execution_count": 9,
   "metadata": {},
   "outputs": [],
   "source": [
    "def forward_propagation(X, para):\n",
    "    \"\"\"\n",
    "    前向传播\n",
    "    :param X: \n",
    "    :param para: \n",
    "    :return: \n",
    "    \"\"\"\n",
    "    W1 = para[\"W1\"]\n",
    "    b1 = para[\"b1\"]\n",
    "    W2 = para[\"W2\"]\n",
    "    b2 = para[\"b2\"]\n",
    "    \n",
    "    Z1 = np.dot(W1.T, X) + b1\n",
    "    A1 = np.tanh(Z1)\n",
    "    Z2 = np.dot(W2.T, X) + b2\n",
    "    A2 = sigmoid(Z2)\n",
    "    \n",
    "    cache = {\n",
    "        \"Z1\": Z1,\n",
    "        \"A1\": A1,\n",
    "        \"Z2\": Z2,\n",
    "        \"A2\": A2\n",
    "    }\n",
    "    return A2, cache "
   ]
  },
  {
   "cell_type": "code",
   "execution_count": 12,
   "metadata": {},
   "outputs": [],
   "source": [
    "def compute_cost(A2, Y):\n",
    "    \"\"\"\n",
    "    \n",
    "    :param A2: \n",
    "    :param Y: \n",
    "    :return: \n",
    "    \"\"\"\n",
    "    m = Y.shape[1]\n",
    "    logprobs = np.multiply(Y, np.log(A2)) + np.multiply(1 - Y, np.log(1 - A2))\n",
    "    cost = -1/m * np.sum(logprobs)\n",
    "    cost = np.squeeze(cost)\n",
    "    return cost"
   ]
  },
  {
   "cell_type": "code",
   "execution_count": 13,
   "metadata": {},
   "outputs": [],
   "source": [
    "def back_propagation(cache, para, X, Y):\n",
    "     m = X.shape[1]\n",
    "     # First, retrieve W1 and W2 from the dictionary \"parameters\",   \n",
    "     W1 = para['W1']\n",
    "     W2 = para['W2']\n",
    "     # Retrieve also A1 and A2 from dictionary \"cache\".    \n",
    "     A1 = cache['A1']\n",
    "     A2 = cache['A2']\n",
    "    \n",
    "     dZ2 = A2 - Y\n",
    "     dW2 = 1/m * np.dot(A1.T, dZ2)\n",
    "     db2 = 1/m * np.sum(dZ2, axis=1, keepdims=True)\n",
    "     dZ1 = np.dot(W2.T, dZ2) * (1 - np.power(A1, 2))\n",
    "     dW1 = 1/m * np.dot(X.T, dZ1)\n",
    "     db1 = 1/m * np.sum(dZ1, axis=1, keepdims=True)\n",
    "     \n",
    "     grads = {\"dW1\": dW1,\n",
    "             \"db1\": db1,\n",
    "             \"dW2\": dW2,\n",
    "             \"db2\": db2}\n",
    "     \n",
    "     return grads"
   ]
  },
  {
   "cell_type": "code",
   "execution_count": null,
   "metadata": {},
   "outputs": [],
   "source": []
  }
 ],
 "metadata": {
  "kernelspec": {
   "display_name": "Python 2",
   "language": "python",
   "name": "python2"
  },
  "language_info": {
   "codemirror_mode": {
    "name": "ipython",
    "version": 2
   },
   "file_extension": ".py",
   "mimetype": "text/x-python",
   "name": "python",
   "nbconvert_exporter": "python",
   "pygments_lexer": "ipython2",
   "version": "2.7.6"
  }
 },
 "nbformat": 4,
 "nbformat_minor": 0
}
