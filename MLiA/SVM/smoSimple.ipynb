{
 "cells": [
  {
   "cell_type": "code",
   "execution_count": 69,
   "metadata": {},
   "outputs": [],
   "source": [
    "from numpy import *\n",
    "import numpy as np\n",
    "from numpy.core.umath import multiply\n",
    "import matplotlib.pyplot as plt"
   ]
  },
  {
   "cell_type": "code",
   "execution_count": 51,
   "metadata": {
    "collapsed": true
   },
   "outputs": [],
   "source": [
    "# 辅助工具\n",
    "import random\n",
    "\n",
    "\n",
    "# 加载数据 \n",
    "def loadDataSet(filename: object) -> object:\n",
    "    dataMat = []\n",
    "    labelMat = []\n",
    "    file = open(filename)\n",
    "    for line in file.readlines():\n",
    "        lineArr = line.strip().split('\\t')\n",
    "        # 坑！ 要用float（）将dataMat、labelMat中的成员转换成浮点类型\n",
    "        # 否则默认类型是U9，即无符号int 9bit类型，这种类型无法参与之后的multiply（）运算，\n",
    "        # 会抛出错误：ufunc 'multiply' did not contain a loop with signature matching types dtype('<U32')\n",
    "        #  dtype('<U32') dtype('<U32')\n",
    "        dataMat.append([float(lineArr[0]), float(lineArr[1])])\n",
    "        labelMat.append(float(lineArr[2]))\n",
    "    return dataMat, labelMat\n",
    "\n",
    "\n",
    "# 随机返回一个不等于i的J\n",
    "def randomSelectJ(i, m):\n",
    "    j = i  \n",
    "    while j == i:\n",
    "        # 坑！random.uniform()返回变量类型是float类型，无法用于之后的切片操作，需要转换为int\n",
    "        j = int(random.uniform(0, m))\n",
    "    return j\n",
    "\n",
    "\n",
    "# 把aj限制在[L,H]范围内\n",
    "def clipAlpha(aj, H, L):\n",
    "    if aj > H:\n",
    "        aj = H\n",
    "    if L > aj:\n",
    "        aj = L\n",
    "    return aj\n"
   ]
  },
  {
   "cell_type": "code",
   "execution_count": 81,
   "metadata": {},
   "outputs": [
    {
     "data": {
      "text/plain": [
       "<matplotlib.collections.PathCollection at 0x24d82869080>"
      ]
     },
     "execution_count": 81,
     "metadata": {},
     "output_type": "execute_result"
    },
    {
     "data": {
      "image/png": "[encoded data removed]",
      "text/plain": [
       "<Figure size 432x288 with 1 Axes>"
      ]
     },
     "metadata": {},
     "output_type": "display_data"
    }
   ],
   "source": [
    "dataMat, labelMat = loadDataSet('MLiA/SVM/testSet.txt')\n",
    "dataArray = np.array(dataMat)\n",
    "plt.scatter(dataArray[:, 0], dataArray[:, 1])"
   ]
  },
  {
   "cell_type": "code",
   "execution_count": 82,
   "metadata": {},
   "outputs": [],
   "source": [
    ""
   ]
  },
  {
   "cell_type": "code",
   "execution_count": 54,
   "metadata": {},
   "outputs": [
    {
     "data": {
      "text/plain": [
       "dtype('float64')"
      ]
     },
     "execution_count": 54,
     "metadata": {},
     "output_type": "execute_result"
    }
   ],
   "source": [
    ""
   ]
  },
  {
   "cell_type": "markdown",
   "metadata": {},
   "source": [
    "#简化版SMO实现"
   ]
  },
  {
   "cell_type": "code",
   "execution_count": 155,
   "metadata": {},
   "outputs": [],
   "source": [
    "def simpleSMO(dataMatIn, classLabels, C, toler, maxIter):\n",
    "    # 将输入的特征矩阵化，shape为100*2；标签矩阵化后转置，shape为100*1\n",
    "    dataMat = mat(dataMatIn)\n",
    "    labelMat = mat(classLabels).transpose()\n",
    "    # 初始化b，样本数量m，特征数量n\n",
    "    b = 0\n",
    "    m, n = shape(dataMat)\n",
    "    # 初始化参数α为全0向量 m*1 即100*1\n",
    "    alphas = mat(zeros((m, 1)))\n",
    "    # 初始化当前遍历次数iter为0 ，当iter == maxIter时，结束循环\n",
    "    iter = 0\n",
    "    while iter < maxIter:\n",
    "        alphaPairsChanged = 0\n",
    "        for i in range(m):\n",
    "            # f(xi) = w.T * x + b\n",
    "            fxi = float(multiply(alphas, labelMat).T * (dataMat * dataMat[i, :].T)) + b\n",
    "            # 误差Ei = f(xi) - yi，用于之后的计算\n",
    "            Ei = fxi - float(labelMat[i])\n",
    "            # todo （疑问点）检查KKT条件是否满足\n",
    "            if ((labelMat[i] * Ei < -toler) and (alphas[i] < C)) or ((labelMat[i] * Ei > toler) and (alphas[i] > 0)):\n",
    "                # 现在开始处理第二个参数alphaJ，由于是简化版smo，先随机选择j\n",
    "                j = randomSelectJ(i, m)\n",
    "                # 计算f(xj),Ej ,计算方法用i\n",
    "                fxj = float(multiply(alphas, labelMat).T * (dataMat * dataMat[j, :].T)) + b\n",
    "                Ej = fxj - float(labelMat[j])\n",
    "                # 为ai，aj 分配新内存，以免被修改\n",
    "                alphaIOld = alphas[i].copy()\n",
    "                alphaJOld = alphas[j].copy()\n",
    "                # 设置alpha的上限H、下限L，用于裁剪，使其满足范围(0,C)\n",
    "                if labelMat[i] != labelMat[j]:\n",
    "                    L = max(0, alphas[j] - alphas[i])\n",
    "                    H = min(C, C + alphas[j] - alphas[i])\n",
    "                else:\n",
    "                    L = max(0, alphas[j] + alphas[i] - C)\n",
    "                    H = min(C, alphas[j] + alphas[i])\n",
    "                if L == H:\n",
    "                    print(\"L==H\")\n",
    "                    continue\n",
    "                #  计算η = K11 + K22 - 2*K12; 这里取其相反数\n",
    "                eta = 2 * dataMat[i, :] * dataMat[j, :].T - dataMat[i, :] * dataMat[i, :].T \\\n",
    "                      - dataMat[j, :] * dataMat[j, :].T\n",
    "                if eta >= 0:\n",
    "                    print(\"eta >= 0\")\n",
    "                    continue\n",
    "                # 更新aj的值 。具体公式推导见《统计学习方法》7.4.1节 定理7.6\n",
    "                alphas[j] -= labelMat[j] * (Ei - Ej) / eta\n",
    "                alphas[j] = clipAlpha(alphas[j], H, L)\n",
    "                # 判断更改是否过小\n",
    "                if abs(alphas[j] - alphaJOld) < 0.00001:\n",
    "                    print(\"j not moving enough\")\n",
    "                    continue\n",
    "                # 用aj 更新ai\n",
    "                alphas[i] += labelMat[j] * labelMat[i] * (alphaJOld - alphas[j])  # update i by the same amount as j\n",
    "                # todo (疑问点)更新b的值。 ai，aj 若在(0,C)之间，则b1 = b2的，所以b = b1 = b2\n",
    "                # todo 若ai，aj 等于0或C 则bi,bj之间的数都是满足KKT的，此时用bi bj的中间值作为b值\n",
    "                # todo 具体公式推导见《统计学习方法》7.4.2节 其3.\n",
    "                bi = b - Ei - labelMat[i] * dataMat[i, :] * dataMat[i, :].T * (alphas[i] - alphaIOld) - labelMat[j] * \\\n",
    "                     dataMat[j, :] * dataMat[i, :].T * (alphas[j] - alphaJOld)\n",
    "                bj = b - Ej - labelMat[i] * dataMat[i, :] * dataMat[j, :].T * (alphas[i] - alphaIOld) - labelMat[j] * \\\n",
    "                     dataMat[j, :] * dataMat[j, :].T * (alphas[j] - alphaJOld)\n",
    "                if (0 < alphas[i]) and (C > alphas[i]):\n",
    "                    b = bi\n",
    "                elif (0 < alphas[j]) and (C > alphas[j]):\n",
    "                    b = bj\n",
    "                else:\n",
    "                    b = (bi + bj) / 2.0\n",
    "                # 使更新alpha数+1，用于控制循环\n",
    "                alphaPairsChanged += 1\n",
    "                print(\"iter: %d i:%d, pairs changed %d\" % (iter, i, alphaPairsChanged))\n",
    "            if alphaPairsChanged == 0:\n",
    "                iter += 1\n",
    "            else:\n",
    "                iter = 0\n",
    "            print(\"iteration number: %d\" % iter)\n",
    "        return b, alphas\n"
   ]
  },
  {
   "cell_type": "code",
   "execution_count": 156,
   "metadata": {
    "collapsed": false
   },
   "outputs": [
    {
     "name": "stdout",
     "output_type": "stream",
     "text": [
      "iter: 0 i:0, pairs changed 1\niteration number: 0\niteration number: 0\niteration number: 0\niteration number: 0\niteration number: 0\nL==H\niteration number: 0\niteration number: 0\nL==H\niteration number: 0\niteration number: 0\niteration number: 0\niteration number: 0\nL==H\niteration number: 0\niteration number: 0\niteration number: 0\nL==H\niteration number: 0\niteration number: 0\niteration number: 0\niteration number: 0\nj not moving enough\nj not moving enough\nL==H\nj not moving enough\nL==H\niteration number: 0\niteration number: 0\nL==H\niteration number: 0\niteration number: 0\niteration number: 0\niteration number: 0\nj not moving enough\niteration number: 0\niteration number: 0\niteration number: 0\niteration number: 0\niteration number: 0\niteration number: 0\niteration number: 0\niteration number: 0\niteration number: 0\niteration number: 0\nj not moving enough\nj not moving enough\niteration number: 0\niteration number: 0\niteration number: 0\niteration number: 0\niteration number: 0\niter: 0 i:52, pairs changed 2\niteration number: 0\niteration number: 0\nj not moving enough\niteration number: 0\niteration number: 0\nL==H\niteration number: 0\niteration number: 0\niteration number: 0\niteration number: 0\niteration number: 0\niteration number: 0\niteration number: 0\niteration number: 0\niteration number: 0\niteration number: 0\niteration number: 0\niteration number: 0\niteration number: 0\niteration number: 0\niteration number: 0\niteration number: 0\niteration number: 0\niteration number: 0\niteration number: 0\niteration number: 0\niteration number: 0\niteration number: 0\niteration number: 0\niteration number: 0\niteration number: 0\niteration number: 0\niteration number: 0\niteration number: 0\niteration number: 0\niteration number: 0\niteration number: 0\niteration number: 0\niteration number: 0\niteration number: 0\niteration number: 0\niteration number: 0\nj not moving enough\niteration number: 0\nL==H\nj not moving enough\niteration number: 0\niteration number: 0\n"
     ]
    }
   ],
   "source": [
    "b, alphas = simpleSMO(dataMat,labelMat, 0.6, 0.001, 40)"
   ]
  },
  {
   "cell_type": "code",
   "execution_count": 157,
   "metadata": {},
   "outputs": [
    {
     "data": {
      "text/plain": [
       "array([[ 3.857764  , -3.18880436]])"
      ]
     },
     "execution_count": 157,
     "metadata": {},
     "output_type": "execute_result"
    }
   ],
   "source": [
    "labelMat1 = mat(labelMat).transpose()\n",
    "y = multiply(alphas, labelMat1).T * multiply(dataArray , dataArray) + b\n",
    "yArray = np.array(y)\n",
    "yArray"
   ]
  },
  {
   "cell_type": "code",
   "execution_count": 158,
   "metadata": {},
   "outputs": [
    {
     "name": "stdout",
     "output_type": "stream",
     "text": [
      "[3.542485 1.977398] -1.0\n[8.015003 0.885325] 1.0\n[ 2.893743 -1.643468] -1.0\n[6.080573 0.418886] 1.0\n"
     ]
    },
    {
     "data": {
      "image/png": "[encoded data removed]",
      "text/plain": [
       "<Figure size 432x288 with 1 Axes>"
      ]
     },
     "metadata": {},
     "output_type": "display_data"
    }
   ],
   "source": [
    "plt.plot(dataArray[:, 0], dataArray[:, 1], '.')\n",
    "plt.scatter(yArray[:, 0], yArray[:, 1])\n",
    "for i in range(100):\n",
    "    if alphas[i] > 0: \n",
    "        print(dataArray[i],labelMat[i])\n",
    "        if labelMat[i] >0:\n",
    "            plt.plot(dataArray[i,0],dataArray[i,1],'r>')\n",
    "        else:\n",
    "            plt.plot(dataArray[i,0],dataArray[i,1],'ko')\n",
    "plt.show()\n"
   ]
  },
  {
   "cell_type": "code",
   "execution_count": 159,
   "metadata": {},
   "outputs": [],
   "source": [
    ""
   ]
  },
  {
   "cell_type": "code",
   "execution_count": null,
   "metadata": {},
   "outputs": [],
   "source": []
  }
 ],
 "metadata": {
  "kernelspec": {
   "display_name": "Python 2",
   "language": "python",
   "name": "python2"
  },
  "language_info": {
   "codemirror_mode": {
    "name": "ipython",
    "version": 2
   },
   "file_extension": ".py",
   "mimetype": "text/x-python",
   "name": "python",
   "nbconvert_exporter": "python",
   "pygments_lexer": "ipython2",
   "version": "2.7.6"
  }
 },
 "nbformat": 4,
 "nbformat_minor": 0
}
