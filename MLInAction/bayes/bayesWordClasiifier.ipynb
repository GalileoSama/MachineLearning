{
 "cells": [
  {
   "cell_type": "code",
   "execution_count": 28,
   "metadata": {
    "collapsed": true
   },
   "outputs": [],
   "source": [
    "import numpy as np  "
   ]
  },
  {
   "cell_type": "code",
   "execution_count": 29,
   "metadata": {},
   "outputs": [
    {
     "data": {
      "text/plain": [
       "-55.262042231857095"
      ]
     },
     "execution_count": 29,
     "metadata": {},
     "output_type": "execute_result"
    }
   ],
   "source": [
    "np.log(0.0001 * 0.0001 * 0.0001 * 0.0001 * 0.0001 * 0.0001)"
   ]
  },
  {
   "cell_type": "code",
   "execution_count": 30,
   "metadata": {},
   "outputs": [],
   "source": [
    "v = [1,3,2,3,2,1,3]"
   ]
  },
  {
   "cell_type": "code",
   "execution_count": 31,
   "metadata": {},
   "outputs": [
    {
     "data": {
      "text/plain": [
       "[1, 3, 2, 3, 2, 1, 3]"
      ]
     },
     "execution_count": 31,
     "metadata": {},
     "output_type": "execute_result"
    }
   ],
   "source": [
    "v"
   ]
  },
  {
   "cell_type": "code",
   "execution_count": 32,
   "metadata": {},
   "outputs": [
    {
     "data": {
      "text/plain": [
       "15"
      ]
     },
     "execution_count": 32,
     "metadata": {},
     "output_type": "execute_result"
    }
   ],
   "source": [
    "np.sum(v)"
   ]
  },
  {
   "cell_type": "code",
   "execution_count": 8,
   "metadata": {},
   "outputs": [
    {
     "data": {
      "text/plain": [
       "[3, 3, 3]"
      ]
     },
     "execution_count": 8,
     "metadata": {},
     "output_type": "execute_result"
    }
   ],
   "source": [
    "b"
   ]
  },
  {
   "cell_type": "code",
   "execution_count": 10,
   "metadata": {},
   "outputs": [
    {
     "data": {
      "text/plain": [
       "2"
      ]
     },
     "execution_count": 10,
     "metadata": {},
     "output_type": "execute_result"
    }
   ],
   "source": [
    "v.index(2)"
   ]
  },
  {
   "cell_type": "code",
   "execution_count": 33,
   "metadata": {},
   "outputs": [],
   "source": [
    "def load_data():\n",
    "    postingList = [\n",
    "        ['my', 'dog', 'has', 'flea', 'help', 'please'],\n",
    "        ['maybe', 'not', 'take', 'him', 'to', 'park', 'stupid'],\n",
    "        ['my', 'dalmation', 'is', 'so', 'cute', 'I', 'love', 'him'],\n",
    "        ['stop', 'posting', 'stupid', 'worthless', 'garbage']\n",
    "    ]\n",
    "    classVec = [0, 1, 0, 1]\n",
    "    return postingList, classVec\n",
    "\n",
    "\n",
    "def createVocabList(postingList):\n",
    "    vocabSet = set([])\n",
    "    for posting in postingList:\n",
    "        vocabSet = vocabSet | set(posting)\n",
    "    return list(vocabSet)\n",
    "\n",
    "\n",
    "def setOfWord2Vec(vocalList, input):\n",
    "    returnVec = [0] * len(vocalList)\n",
    "    for item in input:\n",
    "        if item in vocalList:\n",
    "            returnVec[vocalList.index(item)] = 1\n",
    "        else:\n",
    "            print(item + \"is not in vocalList!\")\n",
    "    return returnVec\n",
    "\n",
    "def train(trainMatrix, label):\n",
    "    docuNum = len(trainMatrix)\n",
    "    wordsNum = len(trainMatrix[0])\n",
    "    pAbusive = np.sum(label) / docuNum\n",
    "    p0Num = np.ones(wordsNum);\n",
    "    p1Num = np.ones(wordsNum)  # p0,p1分子 初始化为1，避免有一项为0时，相乘结果为0\n",
    "    p0Denom = 2.0;\n",
    "    p1Denom = 2.0  # p0,p1 分母，初始化为2（原因未知）\n",
    "    for i in range(docuNum):\n",
    "        if label[i] == 1:\n",
    "            p1Num += trainMatrix[i]\n",
    "            p1Denom += np.sum(trainMatrix[i])\n",
    "        else:\n",
    "            p0Num += trainMatrix[i]\n",
    "            p0Denom += np.sum(trainMatrix[i])\n",
    "    p1Vec = p1Num / p1Denom\n",
    "    p0Vec = p0Num / p0Denom\n",
    "    return p0Vec, p1Vec, pAbusive\n"
   ]
  },
  {
   "cell_type": "code",
   "execution_count": 34,
   "metadata": {},
   "outputs": [],
   "source": [
    "postingList, classVec = load_data()"
   ]
  },
  {
   "cell_type": "code",
   "execution_count": 35,
   "metadata": {},
   "outputs": [
    {
     "name": "stdout",
     "output_type": "stream",
     "text": [
      "['dog', 'help', 'posting', 'maybe', 'so', 'stop', 'cute', 'stupid', 'is', 'my', 'garbage', 'take', 'love', 'dalmation', 'him', 'worthless', 'flea', 'I', 'park', 'has', 'not', 'to', 'please']\n"
     ]
    }
   ],
   "source": [
    "vocalbList = createVocabList(postingList)\n",
    "print(vocalbList)"
   ]
  },
  {
   "cell_type": "code",
   "execution_count": 36,
   "metadata": {},
   "outputs": [
    {
     "data": {
      "text/plain": [
       "[1, 1, 0, 0, 0, 0, 0, 0, 0, 1, 0, 0, 0, 0, 0, 0, 1, 0, 0, 1, 0, 0, 1]"
      ]
     },
     "execution_count": 36,
     "metadata": {},
     "output_type": "execute_result"
    }
   ],
   "source": [
    "setOfWord2Vec(vocalbList, postingList[0])"
   ]
  },
  {
   "cell_type": "code",
   "execution_count": 42,
   "metadata": {},
   "outputs": [],
   "source": [
    "pAbusive = np.array([0, 1,0,1,0,1])\n",
    "p = np.sum(pAbusive)/6\n",
    "logp = np.log(p)"
   ]
  },
  {
   "cell_type": "code",
   "execution_count": 45,
   "metadata": {},
   "outputs": [],
   "source": [
    "a = logp + v"
   ]
  },
  {
   "cell_type": "code",
   "execution_count": 46,
   "metadata": {},
   "outputs": [
    {
     "data": {
      "text/plain": [
       "[1, 3, 2, 3, 2, 1, 3, 1, 3, 2, 3, 2, 1, 3]"
      ]
     },
     "execution_count": 46,
     "metadata": {},
     "output_type": "execute_result"
    }
   ],
   "source": [
    "a"
   ]
  },
  {
   "cell_type": "code",
   "execution_count": null,
   "metadata": {},
   "outputs": [],
   "source": []
  }
 ],
 "metadata": {
  "kernelspec": {
   "display_name": "Python 2",
   "language": "python",
   "name": "python2"
  },
  "language_info": {
   "codemirror_mode": {
    "name": "ipython",
    "version": 2
   },
   "file_extension": ".py",
   "mimetype": "text/x-python",
   "name": "python",
   "nbconvert_exporter": "python",
   "pygments_lexer": "ipython2",
   "version": "2.7.6"
  }
 },
 "nbformat": 4,
 "nbformat_minor": 0
}
