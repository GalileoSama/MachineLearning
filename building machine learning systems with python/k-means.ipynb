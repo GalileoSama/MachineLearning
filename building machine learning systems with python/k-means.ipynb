{
 "cells": [
  {
   "cell_type": "code",
   "execution_count": 48,
   "metadata": {
    "collapsed": true
   },
   "outputs": [],
   "source": [
    "from sklearn.feature_extraction.text import CountVectorizer\n",
    "# min_df默认为1，忽略出现词频小于1的词==不忽略任何词\n",
    "# stop_words = 'english' 即忽略英语中高频但是没意义的词如“a、most、about“等\n",
    "vectorizer = CountVectorizer(min_df=1,stop_words='english')  \n"
   ]
  },
  {
   "cell_type": "code",
   "execution_count": 49,
   "metadata": {},
   "outputs": [
    {
     "data": {
      "text/plain": [
       "array([[0, 1],\n       [1, 0],\n       [0, 1]], dtype=int64)"
      ]
     },
     "execution_count": 49,
     "metadata": {},
     "output_type": "execute_result"
    }
   ],
   "source": [
    "content = [\"what the fuck\",\"what is the hard disk\"]\n",
    "x = vectorizer.fit_transform(content)\n",
    "x.toarray().transpose()"
   ]
  },
  {
   "cell_type": "code",
   "execution_count": 50,
   "metadata": {},
   "outputs": [
    {
     "data": {
      "text/plain": [
       "['disk', 'fuck', 'hard']"
      ]
     },
     "execution_count": 50,
     "metadata": {},
     "output_type": "execute_result"
    }
   ],
   "source": [
    "vectorizer.get_feature_names()"
   ]
  },
  {
   "cell_type": "code",
   "execution_count": 51,
   "metadata": {},
   "outputs": [
    {
     "data": {
      "text/plain": [
       "True"
      ]
     },
     "execution_count": 51,
     "metadata": {},
     "output_type": "execute_result"
    }
   ],
   "source": [
    "from pathlib import Path\n",
    "TOY_DIR = Path(r'building machine learning systems with python/data/toy')\n",
    "TOY_DIR.is_dir()                                                                                                                                                                                                                                                                                                                                                                                                                                                                                                                                                                                                                                                                                                                                                                                                                                                                                                                                                                                                                                                                                                                                   "
   ]
  },
  {
   "cell_type": "code",
   "execution_count": 52,
   "metadata": {},
   "outputs": [],
   "source": [
    "posts = []\n",
    "for fn in TOY_DIR.iterdir():\n",
    "    with open(fn, 'r') as f:\n",
    "        posts.append(f.read())"
   ]
  },
  {
   "cell_type": "code",
   "execution_count": 53,
   "metadata": {},
   "outputs": [
    {
     "data": {
      "text/plain": [
       "(5, 18)"
      ]
     },
     "execution_count": 53,
     "metadata": {},
     "output_type": "execute_result"
    }
   ],
   "source": [
    "x_train = vectorizer.fit_transform(posts)\n",
    "x_train.shape"
   ]
  },
  {
   "cell_type": "code",
   "execution_count": 54,
   "metadata": {},
   "outputs": [
    {
     "name": "stdout",
     "output_type": "stream",
     "text": [
      "[[0 0 0 0 1 0 1 0 0 0 0 0 0 0 0 0 0 0]]\n"
     ]
    }
   ],
   "source": [
    "new_post = \"imaging databases\"\n",
    "new_post_vec = vectorizer.transform([new_post])\n",
    "print(new_post_vec.toarray())"
   ]
  },
  {
   "cell_type": "code",
   "execution_count": 55,
   "metadata": {},
   "outputs": [],
   "source": [
    "import scipy as sp"
   ]
  },
  {
   "cell_type": "code",
   "execution_count": 56,
   "metadata": {},
   "outputs": [],
   "source": [
    "def dis_raw(v1, v2):\n",
    "    delta = v1 - v2\n",
    "    return sp.linalg.norm(delta.toarray())\n",
    "\n",
    "\n",
    "def best_post(X, new_vec, dis_func):\n",
    "    best_doc = None\n",
    "    best_dis = float('inf')\n",
    "    best_i = None\n",
    "    for i,post in enumerate(posts):\n",
    "        if post == new_post:\n",
    "            continue\n",
    "        post_vec = X.getrow(i)\n",
    "        d = dis_func(post_vec, new_vec)\n",
    "        print(\"I:\",i ,\"POST:\" ,post)\n",
    "        print(\"d:\",d)\n",
    "        if d < best_dis:\n",
    "            best_doc = post\n",
    "            best_i = i\n",
    "    print(\"BEST I:\",best_i ,\"BEST POST:\" ,best_doc)\n",
    "    print(\"best d:\",d)"
   ]
  },
  {
   "cell_type": "code",
   "execution_count": 57,
   "metadata": {
    "collapsed": false
   },
   "outputs": [
    {
     "name": "stdout",
     "output_type": "stream",
     "text": [
      "I: 0 POST: This is a toy post about machine learning. Actually, it contains not much interesting stuff.\nd: 3.1622776601683795\nI: 1 POST: Imaging databases provide storage capabilities.\nd: 1.7320508075688772\nI: 2 POST: Most imaging databases save images permanently.\n\nd: 1.7320508075688772\nI: 3 POST: Imaging databases store data.\nd: 1.4142135623730951\nI: 4 POST: Imaging databases store data. Imaging databases store data. Imaging databases store data.\nd: 5.0990195135927845\nBEST I: 4 BEST POST: Imaging databases store data. Imaging databases store data. Imaging databases store data.\nbest d: 5.0990195135927845\n"
     ]
    }
   ],
   "source": [
    "best_post(x_train, new_post_vec, dis_raw)"
   ]
  },
  {
   "cell_type": "code",
   "execution_count": 58,
   "metadata": {},
   "outputs": [],
   "source": [
    "# 先泛化后在求距离\n",
    "def dis_norm(v1, v2):\n",
    "    v1_norm = v1/sp.linalg.norm(v1.toarray())\n",
    "    v2_norm = v2/sp.linalg.norm(v2.toarray())\n",
    "    delta = v1_norm - v2_norm\n",
    "    return sp.linalg.norm(delta.toarray())"
   ]
  },
  {
   "cell_type": "code",
   "execution_count": 59,
   "metadata": {},
   "outputs": [
    {
     "name": "stdout",
     "output_type": "stream",
     "text": [
      "I: 0 POST: This is a toy post about machine learning. Actually, it contains not much interesting stuff.\nd: 1.414213562373095\nI: 1 POST: Imaging databases provide storage capabilities.\nd: 0.8573732768944039\nI: 2 POST: Most imaging databases save images permanently.\n\nd: 0.8573732768944039\nI: 3 POST: Imaging databases store data.\nd: 0.7653668647301795\nI: 4 POST: Imaging databases store data. Imaging databases store data. Imaging databases store data.\nd: 0.7653668647301795\nBEST I: 4 BEST POST: Imaging databases store data. Imaging databases store data. Imaging databases store data.\nbest d: 0.7653668647301795\n"
     ]
    }
   ],
   "source": [
    "best_post(x_train, new_post_vec, dis_norm)"
   ]
  },
  {
   "cell_type": "code",
   "execution_count": 63,
   "metadata": {},
   "outputs": [],
   "source": [
    "# 将相同词干的词划分为同一个词统计\n",
    "# import nltk\n"
   ]
  },
  {
   "cell_type": "markdown",
   "metadata": {},
   "source": [
    "#k-means示例开始，以20newsgroup数据集为例"
   ]
  },
  {
   "cell_type": "code",
   "execution_count": 64,
   "metadata": {
    "collapsed": false
   },
   "outputs": [],
   "source": [
    "from sklearn import datasets\n",
    "from sklearn.feature_extraction.text import TfidfVectorizer\n",
    "all_data = datasets.fetch_20newsgroups(subset='all')"
   ]
  },
  {
   "cell_type": "code",
   "execution_count": 65,
   "metadata": {},
   "outputs": [],
   "source": [
    "# 简单起见，只用部分新闻组，用categories指定\n",
    "groups = ['comp.graphics', 'comp.os.ms-windows.misc','comp.sys.ibm.pc.hardware', 'comp.sys.mac.hardware', \n",
    "'comp.windows.x', 'sci.space']\n",
    "train_data = datasets.fetch_20newsgroups(subset='train', categories=groups)\n",
    "test_data = datasets.fetch_20newsgroups(subset='test', categories=groups)"
   ]
  },
  {
   "cell_type": "code",
   "execution_count": 66,
   "metadata": {},
   "outputs": [
    {
     "name": "stdout",
     "output_type": "stream",
     "text": [
      "2349\n3529\n"
     ]
    }
   ],
   "source": [
    "print(len(test_data.filenames))\n",
    "print(len(train_data.filenames))"
   ]
  },
  {
   "cell_type": "code",
   "execution_count": 67,
   "metadata": {},
   "outputs": [],
   "source": [
    "# 忽略不合法字符  decode_error='ignore'\n",
    "vectorizer_km = TfidfVectorizer(min_df=10, max_df=.5, stop_words='english', decode_error='ignore')\n",
    "vectorized = vectorizer_km.fit_transform(train_data.data)"
   ]
  },
  {
   "cell_type": "code",
   "execution_count": 138,
   "metadata": {
    "collapsed": false
   },
   "outputs": [
    {
     "name": "stdout",
     "output_type": "stream",
     "text": [
      "Initialization complete\n"
     ]
    },
    {
     "name": "stdout",
     "output_type": "stream",
     "text": [
      "Iteration  0, inertia 5760.689\n"
     ]
    },
    {
     "name": "stdout",
     "output_type": "stream",
     "text": [
      "Iteration  1, inertia 3202.590\nIteration  2, inertia 3173.634\n"
     ]
    },
    {
     "name": "stdout",
     "output_type": "stream",
     "text": [
      "Iteration  3, inertia 3156.976\n"
     ]
    },
    {
     "name": "stdout",
     "output_type": "stream",
     "text": [
      "Iteration  4, inertia 3148.279\n"
     ]
    },
    {
     "name": "stdout",
     "output_type": "stream",
     "text": [
      "Iteration  5, inertia 3141.980\n"
     ]
    },
    {
     "name": "stdout",
     "output_type": "stream",
     "text": [
      "Iteration  6, inertia 3137.486\n"
     ]
    },
    {
     "name": "stdout",
     "output_type": "stream",
     "text": [
      "Iteration  7, inertia 3134.915\n"
     ]
    },
    {
     "name": "stdout",
     "output_type": "stream",
     "text": [
      "Iteration  8, inertia 3133.108\n"
     ]
    },
    {
     "name": "stdout",
     "output_type": "stream",
     "text": [
      "Iteration  9, inertia 3131.924\n"
     ]
    },
    {
     "name": "stdout",
     "output_type": "stream",
     "text": [
      "Iteration 10, inertia 3130.693\n"
     ]
    },
    {
     "name": "stdout",
     "output_type": "stream",
     "text": [
      "Iteration 11, inertia 3129.004\n"
     ]
    },
    {
     "name": "stdout",
     "output_type": "stream",
     "text": [
      "Iteration 12, inertia 3127.951\n"
     ]
    },
    {
     "name": "stdout",
     "output_type": "stream",
     "text": [
      "Iteration 13, inertia 3127.675\n"
     ]
    },
    {
     "name": "stdout",
     "output_type": "stream",
     "text": [
      "Iteration 14, inertia 3127.464\n"
     ]
    },
    {
     "name": "stdout",
     "output_type": "stream",
     "text": [
      "Iteration 15, inertia 3127.314\n"
     ]
    },
    {
     "name": "stdout",
     "output_type": "stream",
     "text": [
      "Iteration 16, inertia 3127.246\n"
     ]
    },
    {
     "name": "stdout",
     "output_type": "stream",
     "text": [
      "Iteration 17, inertia 3127.231\nConverged at iteration 17: center shift 0.000000e+00 within tolerance 1.731605e-08\n"
     ]
    },
    {
     "data": {
      "text/plain": [
       "KMeans(algorithm='auto', copy_x=True, init='k-means++', max_iter=300,\n    n_clusters=50, n_init=1, n_jobs=1, precompute_distances='auto',\n    random_state=None, tol=0.0001, verbose=5)"
      ]
     },
     "execution_count": 138,
     "metadata": {},
     "output_type": "execute_result"
    }
   ],
   "source": [
    "k = 50\n",
    "from sklearn.cluster import KMeans\n",
    "# verbose 打印出训练的信息\n",
    "km = KMeans(n_clusters=k, init='k-means++', n_init=1, verbose=5)\n",
    "km.fit(vectorized)"
   ]
  },
  {
   "cell_type": "code",
   "execution_count": 131,
   "metadata": {},
   "outputs": [],
   "source": [
    "# 用训练的模型开始预测\n",
    "new_post_km = '''\n",
    "Disk drive problems. Hi, I have a problem with my hard disk.\n",
    "After 1 year it is working only sporadically now.\n",
    "I tried to format it, but now it doesn't boot any more.\n",
    "Any ideas? Thanks.\n",
    "'''\n",
    "new_post_km_vec = vectorizer_km.transform([new_post_km])\n",
    "new_post_label = km.predict(new_post_km_vec)[0]"
   ]
  },
  {
   "cell_type": "code",
   "execution_count": 132,
   "metadata": {},
   "outputs": [],
   "source": [
    "# 找到训练集中与new_post_km属于同一簇的索引\n",
    "# nonzero返回非0的索引\n",
    "similar_indices = (km.labels_ == new_post_label).nonzero()[0]"
   ]
  },
  {
   "cell_type": "code",
   "execution_count": 133,
   "metadata": {},
   "outputs": [
    {
     "name": "stdout",
     "output_type": "stream",
     "text": [
      "查看索引：\n[71, 167, 201, 228, 359, 377, 463, 676, 807, 808, 917, 939, 976, 1076, 1114, 1377, 1486, 1726, 1752, 1985, 1986, 2447, 2499, 2512, 2516, 2600, 2800, 3202, 3285, 3296, 3437, 3458]\n维度相同：\n(1, 5651)\n(1, 5651)\n"
     ]
    }
   ],
   "source": [
    "print(\"查看索引：\")\n",
    "print(list(similar_indices))\n",
    "print(\"维度相同：\")\n",
    "print(vectorized[0].shape)\n",
    "print(new_post_km_vec.shape)"
   ]
  },
  {
   "cell_type": "code",
   "execution_count": 134,
   "metadata": {
    "collapsed": false
   },
   "outputs": [
    {
     "data": {
      "text/plain": [
       "[(1.0807851743953758,\n  \"From: Thomas Dachsel <GERTHD@mvs.sas.com>\\nSubject: BOOT PROBLEM with IDE controller\\nNntp-Posting-Host: sdcmvs.mvs.sas.com\\nOrganization: SAS Institute Inc.\\nLines: 25\\n\\nHi,\\nI've got a Multi I/O card (IDE controller + serial/parallel\\ninterface) and two floppy drives (5 1/4, 3 1/2) and a\\nQuantum ProDrive 80AT connected to it.\\nI was able to format the hard disk, but I could not boot from\\nit. I can boot from drive A: (which disk drive does not matter)\\nbut if I remove the disk from drive A and press the reset switch,\\nthe LED of drive A: continues to glow, and the hard disk is\\nnot accessed at all.\\nI guess this must be a problem of either the Multi I/o card\\nor floppy disk drive settings (jumper configuration?)\\nDoes someone have any hint what could be the reason for it.\\nPlease reply by email to GERTHD@MVS.SAS.COM\\nThanks,\\nThomas\\n+-------------------------------------------------------------------+\\n| Thomas Dachsel                                                    |\\n| Internet: GERTHD@MVS.SAS.COM                                      |\\n| Fidonet:  Thomas_Dachsel@camel.fido.de (2:247/40)                 |\\n| Subnet:   dachsel@rnivh.rni.sub.org (UUCP in Germany, now active) |\\n| Phone:    +49 6221 4150 (work), +49 6203 12274 (home)             |\\n| Fax:      +49 6221 415101                                         |\\n| Snail:    SAS Institute GmbH, P.O.Box 105307, D-W-6900 Heidelberg |\\n| Tagline:  One bad sector can ruin a whole day...                  |\\n+-------------------------------------------------------------------+\\n\"),\n (1.1804929617274715,\n  'From: balog@eniac.seas.upenn.edu (Eric J Balog)\\nSubject: A: DRIVE WON\\'T BOOT\\nOrganization: University of Pennsylvania\\nLines: 26\\nNntp-Posting-Host: eniac.seas.upenn.edu\\n\\nHi!\\n\\nI recently switched my 3.5\" drive to A:. The problem is, while I can read and\\nwrite to both the new A: and B: correctly, I can\\'t boot from a floppy in A:.\\nI\\'ve checked the CMOS settings; it is set for Floppy Seek at Boot and Boot \\nOrder A:,C:. \\n\\nOnce, I had a floppy that did not have the systems files on it in A:. I got a\\nmessage telling me to put a disk systems disk in the drive. It didn\\'t work.\\nWhen I do have a systems disk in the A: drive, this is what happens:\\n1) Power-on and Memory Test;\\n2) A: light comes on\\n3) B: light comes on, followed by a short beep;\\n4) HD light comes on for an instant;\\n5) B: light comes on again, then nothing happens\\n\\nThe light goes off, there is no disk activity of any kind, and the screen \\nblanks. I can\\'t even use ctrl-alt-del.\\n\\nAny suggestions.\\n\\nThanks in advance.\\n\\nEric Balog \\nbalog@eniac.seas.upenn.edu\\n\\n'),\n (1.1952227862638962,\n  'From: s872505@minyos.xx.rmit.OZ.AU (Stephen Bokor)\\nSubject: Re: A: DRIVE WON\\'T BOOT\\nOrganization: Royal Melbourne Institute of Technology\\nLines: 36\\nNNTP-Posting-Host: minyos.xx.rmit.oz.au\\n\\nbalog@eniac.seas.upenn.edu (Eric J Balog) writes:\\n\\n>Hi!\\n\\n>I recently switched my 3.5\" drive to A:. The problem is, while I can read and\\n>write to both the new A: and B: correctly, I can\\'t boot from a floppy in A:.\\n>I\\'ve checked the CMOS settings; it is set for Floppy Seek at Boot and Boot \\n>Order A:,C:. \\n\\n>Once, I had a floppy that did not have the systems files on it in A:. I got a\\n>message telling me to put a disk systems disk in the drive. It didn\\'t work.\\n>When I do have a systems disk in the A: drive, this is what happens:\\n>1) Power-on and Memory Test;\\n>2) A: light comes on\\n>3) B: light comes on, followed by a short beep;\\n>4) HD light comes on for an instant;\\n>5) B: light comes on again, then nothing happens\\n\\n>The light goes off, there is no disk activity of any kind, and the screen \\n>blanks. I can\\'t even use ctrl-alt-del.\\n\\n>Any suggestions.\\n\\nHave you checked: 1/ The setting of drive A: to 1.44 M floppy.\\n\\t\\t\\t\\t\\t\\t2/ The setting of drive B: to 1.2 M foppy.\\n\\t\\t\\t\\t\\t\\t3/ The cable connecting the two drives to\\n\\t\\t\\t\\t\\t\\tthe controller card (I can\\'t remember which\\n\\t\\t\\t\\t\\t\\ttwo wires are swapped, but they determine\\n\\t\\t\\t\\t\\t\\twhich is drive A: & b:).\\n\\nI hope this is of some help :-)\\n\\n\\nSteve\\n\\ns872505@minyos.xx.oz.au\\n'),\n (1.2268977630064162,\n  'From: \"Altan J. Stalker\" <astalker@nickel.ucs.indiana.edu>\\nSubject: SE/30 Hard Drive Problem\\nContent-Type: text/plain; charset=US-ASCII\\nContent-Transfer-Encoding: 7bit\\nOrganization: Indiana University\\nMime-Version: 1.0\\nContent-Length: 1161      \\nLines: 33\\n\\n\\nI have an SE/30 with a 80 meg HD which dates back to April 1989.  When I\\noriginally purchased it, I experienced the failure to boot problem.  This\\nwas fixed soon after by a ROM upgrade on the hard drive.\\n\\nLately a similar problem has been occuring.  When the computer is\\npowered on the HD light flashes a few times and then I am given\\nthe \"no disk to boot from\" icon.  However, upon turing the\\ncomputer off and on again the drive ALWAYS boots up just fine.  \\nFurthermore, if instead of turning the power on and off I press the reboot \\nbutton the same problem occurs.  But, as I said, turning the power\\noff and on always works.\\n\\nThis problem is different from the 1989 boot problem in that before\\nit often required several power off and ons to get it to boot.\\n\\nDoes anybody have any suggestions as to what the problem is or how\\nit can be fixed?\\n\\nI\\'m wondering if it\\'s getting old and requires more time to \\n\"come up to speed\" now.  Is there a PRAM or SCSI setting that\\nallows me to tell the computer to wait a little longer before \\ntrying to access the HD?\\n\\nThanks!\\n\\n\\nAltan J. Stalker\\nastalker@nickel.ucs.indiana.edu\\nIndiana University\\nComputer Science Dept.\\n\\n\\n'),\n (1.2360154158423307,\n  \"From: JMARTTILA@FINABO.ABO.FI (Fast-Eddie Felson)\\nSubject: Adaptec 1542A problem\\nOrganization: Turku School of Economics\\nX-News-Reader: VMS NEWS 1.24\\nLines: 29\\n\\nHello\\n\\nI have recently suffered from various problems concerning\\nan Adaptec 1542A controller.\\n\\nProblem 1:\\nFloppy disk drive doesn't work. There's apparently at least two jumpers\\non the controller that affect the floppy disk drive. Unfortunately I\\nhave located only one of them (in the lower front corner). I would like\\nto know, if there are any other such jumpers and possibly where they \\nare located.\\n\\nProblem 2:\\nMy hard disks refuse to boot. With my two SCSI HD's (Rodime, Miniscribe)\\nI get a message 'Missing operating system', even though the disks have been\\nformatted with the same controller and they damn sure have an operating\\nsystem on them. If I boot from a Quantum I might get as far as getting\\nthe MS-DOS version information. This might of course be due to incombatible\\nmemory drivers.\\nAre there any jumpers that could affect the HD causing such errors?\\n\\n\\tThanks in advance\\n\\n        Jouni\\n\\n_______________________________________________________________________________\\nJouni Marttila - Yo-kyl{ 11 B 25,  20540 Turku,  FINLAND - +358 21 374624____\\njmarttila@abo.fi - jmarttila@finabo - abovax::jmarttila - jjmartti@utu.fi__\\nPGP-key available via finger jmarttila@abo.fi ___________________________\\n\"),\n (1.2390475284727382,\n  'From: misra@matt.ksu.ksu.edu (Yoda)\\nSubject: Re: Booting from B drive\\nOrganization: Kansas State University\\nLines: 14\\nNNTP-Posting-Host: matt.ksu.ksu.edu\\n\\ndjweisbe@unix.amherst.edu (David Weisberger) writes:\\n\\n>I have a 5 1/4\" drive as drive A.  How can I make the system boot from\\n>my 3 1/2\" B drive?  (Optimally, the computer would be able to boot\\n>from either A or B, checking them in order for a bootable disk.  But\\n>if I have to switch cables around and simply switch the drives so that\\n>it can\\'t boot 5 1/4\" disks, that\\'s OK.  Also, boot_b won\\'t do the trick\\n>for me.)\\n\\n>Thanks,\\n>  Davebo\\n\\tYou can try to get into the setup byt pressing CTRL-ALT-INS or \\n\\tCTRL-ALT-PrintScreen on most PC\\'s. That should give you an option\\n\\tto set regarding the drives to boot from. \\n'),\n (1.240525206354146,\n  'From: rtfuhge@immd8.informatik.uni-erlangen.de (Robert Fuhge)\\nSubject: Re: Booting from B drive\\nOrganization: University of Erlangen, csd. AI\\nNNTP-Posting-Host: faui8s3.informatik.uni-erlangen.de\\nLines: 36\\n\\nHi!\\n\\nI think VGA-Copy can do what you need. \\nIf you create a new floppy for your a: drive (that is the 5 1/4\"), turn on\\nthe \"modify\" switch of vga-copy.\\nWhen you boot using this diskette, a message appears:\\n\\nThis is no system disk, you can\\n1) replace disk with another,\\n2) boot from Harddisk or\\n3) switch drives and reboot (that is, a: becomes b:, b: becomes a:)\\nType your choice:\\n\\nWhen you select the third item, you can boot from b: which is now called a: .\\nSeems to work very good, for example booting drdos6 from the installation disks\\nin 3.5\" format was no problem for a friend of mine (I have only a 3.5\" a: drive)\\n\\nHope that helps\\nRobert\\n\\nP.S.: VGA-Copy is shareware, so it\\'s easy to get. Newest Version seems to be 5.0 .\\n\\n-- \\n+-----------------------------------------------------------------------------+\\n|  Robert Fuhge,  Haagstrasse 17,  8520 Erlangen,  Tel. privat: 09131/204103  |\\n|  Email: rtfuhge@cip.informatik.uni-erlangen.de  (demnaechst 91054 Erlangen) |\\n+-----------------------------------------------------------------------------+\\n|  \"Wars are not for to see who is right, but who is left ... \"               |\\n+-----------------------------------------------------------------------------+\\n---\\n+-----------------------------------------------------------------------------+\\n|  Robert Fuhge,  Haagstrasse 17,  8520 Erlangen,  Tel. privat: 09131/204103  |\\n|  Email: rtfuhge@cip.informatik.uni-erlangen.de  (demnaechst 91054 Erlangen) |\\n+-----------------------------------------------------------------------------+\\n|  \"Wars are not for to see who is right, but who is left ... \"               |\\n+-----------------------------------------------------------------------------+\\n'),\n (1.2458010908652368,\n  'From: djweisbe@unix.amherst.edu (David Weisberger)\\nSubject: Booting from B drive\\nNntp-Posting-Host: amhux3.amherst.edu\\nOrganization: large\\nX-Newsreader: TIN [version 1.1 PL7]\\nLines: 17\\n\\nI have a 5 1/4\" drive as drive A.  How can I make the system boot from\\nmy 3 1/2\" B drive?  (Optimally, the computer would be able to boot\\nfrom either A or B, checking them in order for a bootable disk.  But\\nif I have to switch cables around and simply switch the drives so that\\nit can\\'t boot 5 1/4\" disks, that\\'s OK.  Also, boot_b won\\'t do the trick\\nfor me.)\\n\\nThanks,\\n  Davebo\\n\\n--\\nDavid Weisberger   | Q: Mr. President, do you care to say any more about the\\n                   |    operational details of the airlift?\\ndjweisbe           | THE PRESIDENT:  No.\\n@unix.amherst.edu  | Q: How about explaining to the American people why it\\'s\\n                   |    an important issue for the United States to undertake?\\n                   | THE PRESIDENT:  What?\\n'),\n (1.2493611600441383,\n  'From: ah301@yfn.ysu.edu (Jerry Sy)\\nSubject: how to boot from ext HD on power on ?\\nOrganization: St. Elizabeth Hospital, Youngstown, OH\\nLines: 12\\nReply-To: ah301@yfn.ysu.edu (Jerry Sy)\\nNNTP-Posting-Host: yfn.ysu.edu\\n\\n\\nI have an external hard drive I wish to use as startup disk.\\nproblem is, when I switch on the mac, it boots on the internal HD,\\nbut when I restart  (warm boot) the mac, it boots from the external.\\nhow do I make  it boot directly from the external ?\\n\\nplease email replies if possible.\\n\\nthanks in advance.\\n\\njerry\\n\\n'),\n (1.2505940939802267,\n  'From: glang@slee01.srl.ford.com (Gordon Lang)\\nSubject: Re: Booting from B drive\\nOrganization: Ford Motor Company Research Laboratory\\nLines: 24\\nNNTP-Posting-Host: slee01.srl.ford.com\\nX-Newsreader: Tin 1.1 PL5\\n\\nDavid Weisberger (djweisbe@unix.amherst.edu) wrote:\\n: I have a 5 1/4\" drive as drive A.  How can I make the system boot from\\n: my 3 1/2\" B drive?  (Optimally, the computer would be able to boot\\n: from either A or B, checking them in order for a bootable disk.  But\\n: if I have to switch cables around and simply switch the drives so that\\n: it can\\'t boot 5 1/4\" disks, that\\'s OK.  Also, boot_b won\\'t do the trick\\n: for me.)\\n: \\n: Thanks,\\n:   Davebo\\nWe had the same issue plague us for months on our Gateway.  I finally\\ngot tired of it so I permanently interchanged the drives.  The only\\nreason I didn\\'t do it in the first place was because I had several\\nbootable 5-1/4\\'s and some 5-1/4 based install disks which expected\\nthe A drive.  I order all new software (and upgrades) to be 3-1/2 and\\nthe number of \"stupid\" install programs that can\\'t handle an alternate\\ndrive are declining with time - the ones I had are now upgraded.  And\\nas for the bootable 5-1/4\\'s I just cut 3-1/2 replacements.\\n\\nIf switching the drives is not an option, you might be able to wire up\\na drive switch to your computer chasis.  I haven\\'t tried it but I think\\nit would work as long as it is wired carefully.\\n\\nGordon Lang\\n'),\n (1.2525962920248266,\n  'From: rpao@mts.mivj.ca.us (Roger C. Pao)\\nSubject: Re: Booting from B drive\\nOrganization: MicroTech Software\\nLines: 34\\n\\nglang@slee01.srl.ford.com (Gordon Lang) writes:\\n\\n>David Weisberger (djweisbe@unix.amherst.edu) wrote:\\n>: I have a 5 1/4\" drive as drive A.  How can I make the system boot from\\n>: my 3 1/2\" B drive?  (Optimally, the computer would be able to boot\\n>: from either A or B, checking them in order for a bootable disk.  But\\n>: if I have to switch cables around and simply switch the drives so that\\n>: it can\\'t boot 5 1/4\" disks, that\\'s OK.  Also, boot_b won\\'t do the trick\\n>: for me.)\\n>: \\n>: Thanks,\\n>:   Davebo\\n>We had the same issue plague us for months on our Gateway.  I finally\\n>got tired of it so I permanently interchanged the drives.  The only\\n>reason I didn\\'t do it in the first place was because I had several\\n>bootable 5-1/4\\'s and some 5-1/4 based install disks which expected\\n>the A drive.  I order all new software (and upgrades) to be 3-1/2 and\\n>the number of \"stupid\" install programs that can\\'t handle an alternate\\n>drive are declining with time - the ones I had are now upgraded.  And\\n>as for the bootable 5-1/4\\'s I just cut 3-1/2 replacements.\\n\\n>If switching the drives is not an option, you might be able to wire up\\n>a drive switch to your computer chasis.  I haven\\'t tried it but I think\\n>it would work as long as it is wired carefully.\\n\\nI did this.  I use a relay (Radio Shack 4PDT) instead of a huge\\nswitch.  This way, if the relay breaks, my drives will still work.\\n\\nIt works fine, but you may still need to change the CMOS before the\\ndrive switch will work correctly for some programs.\\n\\nrp93\\n-- \\nRoger C. Pao  {gordius,bagdad}!mts!rpao, rpao@mts.mivj.ca.us\\n'),\n (1.256007320305044,\n  'From: balog@eniac.seas.upenn.edu (Eric J Balog)\\nSubject: FLOPPY DRIVE PROBLEM--HELP!!!\\nOrganization: University of Pennsylvania\\nLines: 25\\nNntp-Posting-Host: eniac.seas.upenn.edu\\n\\nHi!\\n\\nI have a problem with my floppy drives. In an effort to make my 3.5\" drive \\n(normally b:) my a: drive, I switched the order of connections on the cable \\nfrom the serial card/floppy/ide controller. I booted up, changed the CMOS\\nsettings to reflect the a: drive as the 3.5 and the b: drive as the 5.25.\\nThe drive lights didn\\'t come on, and there was a failure trying to read from\\nthose drives.\\n\\nI switched the cables back to their original positions, and then booted-up and\\nrestored the original CMOS settings. The lights for the floppies came on\\nduring this process, and they stay on for as long as the computer is on.\\nI see that when there is a disk in a:, the drive is spinning, yet there seems\\nto be no disk access. MSD.EXE and Norton SI detect both drives, but when I \\ntry to get detailed information about a: or b:, Norton SI tells me that there\\nis no disk in the drive.\\n\\nCan anyone offer any suggestions?\\nI\\'m in desperate need of help!!!\\n\\nThank you for your time.\\n\\nEric Balog\\nbalog@eniac.seas.upenn.edu\\n\\n'),\n (1.2591019815009055,\n  'From: gryphon@openage.openage.com (The Golden Gryphon)\\nSubject: Re: Intel, the Pentium and Linux\\nArticle-I.D.: openage.1993Apr04.175934.8526\\nOrganization: Open Age, Inc.\\nLines: 40\\n\\nINABU@ibm.rz.tu-clausthal.de (Arnd Burghardt) writes:\\n\\n>Hi folks,\\n> \\n>Yesterday i visited the CEBIT (hannover, germany), where Intel was presenting\\n>the Pentium (586) processor. They had four (in words 4) machines with this\\n>beast running. So they presented it nicely (unly by running picture shows),\\n>this i could do on a 80286 ;-)). The presentor promised it to be binary\\n>compatible to the i486, and I said I don\\'t believe. I showed him a ONE_DISK_\\n>Linux-System (Emergency disk, with patched lilo to boot from disk), and said\\n>him : Convice me, boot this :  No guts, no glory ! A he decided no glory.\\n>He won\\'t let anybody touch his holy cows, and not even boot a suspect OS.\\n> \\n>I thought by myself \\'This is the coward of the day\\' and went back to earth.\\n> \\n>What cn we learn : this technology is far from industrial-standarts, so you\\n>can expect this beast in your local computer-shop at least in spring next\\n>year....\\n> \\n>only my 2cents....\\n\\nYes only your $00.02.  Here\\'s mine.\\n\\nIf I were running at a new chip at a Trade show, and had little to no real\\ntechnical knowledge,  I wouldn\\'t let some stranger with a diskette boot my demo\\nmachine.  If the demo machine is down too long people will not see my nice\\ndemos, and if this purposted LINUX diskette is really something that will wipe\\nthe disk, or is loaded with a VIRUS!, I\\'m in deep trouble.\\n\\nNo marketer in their right mind would let you do this, unless they had\\nspecifically invited people to do so, and provided machines to do it with.\\n\\nWe can we learn : This technology will be shipping from PC vendors in May 1993,\\nand will be i486 compatible.\\n\\n-- \\nThe Golden Gryphon \\t\\t\\t\\tgryphon@openage.COM\\n\"The Crown Jewel of the American Prison System.\" - President Bill\\nClinton on living in The White House.\\nOpenage - The Premier SCO UNIX integrator in the Washington D.C. area\\n'),\n (1.2644794841044023,\n  \"From: ggeorge@bu.edu (Gerry George)\\nSubject: Partition table disappeared!! Help\\nArticle-I.D.: bu.115970\\nLines: 20\\nX-Newsreader: Tin 1.1 PL5\\n\\nMy computer won't recognise my disk after a reboot (Windows crash - Grrr!!)\\nAre there any options to restore everything, without losing data? \\n\\n\\nThe drive previously had 3 partitions, but I do not remember the exact\\nsettings.\\n\\nI have copies of the boot data from the disk (PC-tools rescue disk).  I do not\\nwant to lose my data - 340MB IDE drive.  Do I have any options?\\n\\n\\n--\\n\\n\\n===========================================================================\\nGerry George                          | Anything good in life is either\\nSchool of Management, Boston Univ.    | illegal, immoral or fattening.\\nInternet: ggeorge@acs.bu.edu          | Any item not in the above three\\nCompu$erve: 72607.2560@compuserve.com | categories causes cancer in rats!\\n===========================================================================\\n\"),\n (1.2883179320357072,\n  \"From: badry@cs.UAlberta.CA (Badry Jason Theodore)\\nSubject: Chaining IDE drives\\nSummary: Trouble with Master/Slave drives\\nNntp-Posting-Host: cab009.cs.ualberta.ca\\nOrganization: University Of Alberta, Edmonton Canada\\nLines: 16\\n\\nHi.  I am trying to set up a Conner 3184 and a Quantum 80AT drive.  I have\\nthe conner set to the master, and the quantum set to the slave (doesn't work\\nthe other way around).  I am able to access both drives if I boot from a \\nfloppy, but the drives will not boot themselves.  I am running MSDOS 6, and\\nhave the Conner partitioned as Primary Dos, and is formatted with system\\nfiles.  I have tried all different types of setups, and even changed IDE\\ncontroller cards.  If I boot from a floppy, everything works great (except\\nthe booting part :)).  The system doesn't report an error message or anything,\\njust hangs there.  Does anyone have any suggestions, or has somebody else\\nrun into a similar problem?  I was thinking that I might have to update the bios\\non one of the drives (is this possible?).  Any suggestions/answers would be\\ngreatly appreciated.  Please reply to:\\n\\n\\tJason Badry\\n\\tbadry@cs.ualberta.ca\\n\\n\"),\n (1.2899416127886583,\n  \"From: S903146@mailserv.cuhk.hk\\nSubject: Re: DOS6 - no boot disk required if you don't want EMM386 to load\\nNntp-Posting-Host: wksa16.csc.cuhk.hk\\nOrganization: Computer Services Centre, C.U.H.K.\\nDistribution: usa\\nLines: 20\\n\\nIn article <ls91poINNsvf@levelland.cs.utexas.edu> sms@cs.utexas.edu (Stephen Mark Sanderson) writes:\\n>From: sms@cs.utexas.edu (Stephen Mark Sanderson)\\n>Subject: DOS6 - no boot disk required if you don't want EMM386 to load\\n>Date: 8 Apr 1993 15:12:40 -0500\\n>Everybody, DOS 6 users in particular, take note:  if you want to play games\\n>that hate/use their own upper memory manager, DOS 6 is not a problem.  No\\n>boot disks required.  As your system starts up, hit the F5 key.  This tells\\n>it to bypass config and autoexec altogether.  You get a plain, generic session\\n>of DOS, with nothing loaded.  <there's another function key that actually\\n>steps thru config.sys asking if you want to execute each line, but I've\\n>forgotten it at the moment...you can try finding it - I think it's F9...>\\n\\n     No, you need not bypass the config.sys, in Dos 6.0, there is a function \\nof multi-config, have you tried BOOT.SYS ? the multi-config is the kind that \\nyou can choose you config.sys at the startup. And I find that is very good. \\nIt has no conflict to QEMM. (I have problem when using BOOT.SYS)\\n    The key you say is F8, which is trace the config.sys step by step.\\n    Sorry, if any error :)\\n\\nPhillip   (phillipau@cuhk.hk)\\n\"),\n (1.290463383586751,\n  \"From: jay@vitec.com (Jay Thompson)\\nSubject: DOS 6.0\\nOrganization: VITec\\nLines: 16\\n\\nI know of two people who have horrer stories about the DOS 6.0. \\nThat's 100% of the people I know with DOS 6.0. Both have\\nhad to reformat their disks and start over.  One had drive D compress and work\\nfine, only to compress C: to have the thing choke, spit out an unintelligable\\nwarning, and then hang.  All that was left on either drive was autoexec.bat\\nand config.sys.  Calls to Microsoft only met with busy signals.  After reformatting\\nthe drive, I'm not sure if he had the guts to reinstall 6.0 or stay with a known\\nentity.\\n\\nThe other may have been a marginal drive, however, his upgrade failed,\\nhe had to format a floppy disk at 6.0, format the drive, and then reinstall.\\n\\nI make now claims since I was not driving at the time, however, be careful\\nand make sure you back important things up.\\n\\nI am interested in any other people with similar or success stories.....\\n\"),\n (1.3082503018139457,\n  \"From: dlc@umcc.umcc.umich.edu (David Claytor)\\nSubject: Re: When is Apple going to ship CD300i's?\\nOrganization: UMCC, Ann Arbor, MI\\nLines: 43\\nNNTP-Posting-Host: umcc.umcc.umich.edu\\n\\nIn article <1r00fdINNddt@senator-bedfellow.MIT.EDU> thewho@athena.mit.edu (Derek A Fong) writes:\\n>\\n>Interestingly enough, the CDROM 300i that came with my Quadra 800 has \\n>only 8 disks:\\n>\\n>1. System Install\\n>2. Kodak Photo CD sampler\\n>3. Alice to Ocean\\n>4. CDROM Titles\\n>5. Application Demos\\n>6. Mozart: Dissonant Quartet\\n>7. Nautilus\\n>8. Apple Chronicles\\n>\\n>Has anyone else noticed that they got less than everyone seems to be\\n>getting with the external?  What I really feel I missed out on is what\\n>is supposed to a fantastic Games demo disk.\\n>\\n>I have heard that people have gotten up to 9-10 disks with their drive.\\n>I assume they get the 8 titles above plus Cinderella and the Games Demo CDROM.\\n>\\n>any comments and experiences?  Should I call Apple to complain? =)\\n>\\n>Derek\\n>\\n>\\n>thewho@plume.mit.edu\\n\\n\\nWhat I did NOT get with my drive (CD300i) is the System Install CD you\\nlisted as #1.  Any ideas about how I can get one?  I bought my IIvx 8/120\\nfrom Direct Express in Chicago (no complaints at all -- good price & good\\nservice).\\n\\nBTW, I've heard that the System Install CD can be used to boot the mac;\\nhowever, my drive will NOT accept a CD caddy is the machine is off.  How can\\nyou boot with it then?\\n\\n--Dave\\n\\n-- \\n                           dlc@umcc.ais.org  313.485.3394\\n\\n\"),\n (1.309454194937229,\n  'From: tcking@uswnvg.com (Tim King)\\nSubject: Gateway 2000 & booting from floppy\\nOrganization: Ground Zero\\nLines: 17\\nX-Newsreader: Tin 1.1 PL5\\n\\n\\nI have a Gateway 4DX-33V with my 3.5 inch floppy as drive A.  I\\naccidentally discovered that if a have a floppy from ONE particular\\nbox of diskettets in the A drive when I boot up, rather than getting\\nthe \"Non-system diskette\" message, the machine hangs and the CMOS\\ngets overwritten (luckily, Gateway sends a print of the standard\\nCMOS settings with their systems).  This only happens with a box\\nof pre-formatted Fuji disks that I have, no other disks cause this\\nproblem.  If I re-format one of the Fuji disks, the problem goes away.\\nI did a virus scan (scan v1.02) of the disks and found nothing.\\n\\nAnyone have any idea what is going on here?  Hardware problem?  A\\nvirus that can\\'t be detected?  The system reading in garbage from\\nthe boot sector?\\n\\n--\\nTim King, tcking@uswnvg.com\\n'),\n (1.31501144357784,\n  'From: yee@nimios.eng.mcmaster.ca (Paul Yee)\\nSubject: Re: Booting from B drive\\nSummary: Sorry, can\\'t be done from AMI BIOS\\nNntp-Posting-Host: nimios.eng.mcmaster.ca\\nOrganization: Communications Research Laboratory, McMaster University\\nLines: 30\\n\\nIn article <khan0095.735001731@nova> khan0095@nova.gmi.edu (Mohammad Razi Khan) writes:\\n>glang@slee01.srl.ford.com (Gordon Lang) writes:\\n>\\n>>David Weisberger (djweisbe@unix.amherst.edu) wrote:\\n>>: I have a 5 1/4\" drive as drive A.  How can I make the system boot from\\n>>: my 3 1/2\" B drive? \\n\\n[intermediate reply suggesting cable switch deleted]\\n\\n>\\n>I have AMI bios, I have poked around the bios but haven\\'t tried this but somewhere it says BOOT: A:;C:\\n>I would assume that you could probably slip in a b:\\n>althoug a.) I haven\\'t tried it and\\n>b.) don\\'t mess with your CMOS unless you know what your doing!!\\n\\nI hate to burst your bubble but you cannot \"slip in a B:\" to that\\nparticular AMI BIOS setting. That setting only allows you to set\\nthe *boot order* of the floppy A: with respect to the primary HD C:,\\ni.e., check A: first, then C: or check C:, then A:.\\n\\n>\\n>\\n>>Gordon Lang\\n>--\\n>Mohammad R. Khan                /    khan0095@nova.gmi.edu\\n>After July \\'93, please send mail to  mkhan@nyx.cs.du.edu\\n\\nRegards,\\nPaul Yee\\nyee@nimios.eng.mcmaster.ca\\n'),\n (1.319287786631691,\n  'From: f2ehg786@umiami.ir.miami.edu\\nSubject: Disappointed by La Cie\\nOrganization: Univ of Miami IR\\nLines: 52\\n\\nApproximately four months ago, I purchased a Quantum 240LPS HD from La Cie for\\n$649. After two months, the drive started having problems. First, there were\\nintermittent freezes, then corrupted files and resources, then Silverlining\\n5.41 wouldn\\'t even recognize the drive. So I got an RMA from La Cie and\\nexchanged the new drive for a reconditioned one.\\n\\nWell, about a month has passed now and the second drive is having problems.\\nOften, when I boot up my IIsi I get the flashing question mark. Sometimes, if I\\nthen insert the Silverlining (5.42) program I can get it to recognize the drive\\nby making it scan over and over for drives. At that point I can restart the\\nIIsi and boot from the HD. I\\'ve called La Cie again and they\\'ve given me\\nanother RMA. Their tech support people tell me that if Silverlining doesn\\'t see\\nthe drive there\\'s a definite hardware problem.\\n\\nGiven that this is the second bad drive in four months, I asked La Cie to send\\nme a *new* one, but they said \"no.\" Also, within three weeks after I purchased\\nmy original drive, La Cie dropped the price on it by over $100.\\n\\nI can accept that a drive (or two) may be bad. And I know that hardware vendors\\nmake a practice of sending reconditioned replacements when they do repairs. And\\nI understand that the nature of the computer industry lends itself to sudden\\nprice fluctuations. Nevertheless, taken together, the convergence of these\\nfacts/events have left a bad taste in my mouth. (I should have added above that\\nwhen I asked La Cie to transfer the contents of my current drive to the one\\nthey will send_I think the data is still in good shape and I\\'ll have to again\\nreinstall everything from floppies_they said it would cost me $250 for data\\nrecovery.)\\n\\nIt seems to me that reconditioned hardware should be sold as reconditioned at a\\ndiscounted price, and that replacements for new hardware gone bad (still\\ncovered under a 90-day warranty) should be new. \\n\\nI feel a little helpless about all this. I don\\'t mean to necessarily flame La\\nCie_their support staff have always been friendly and sometimes even helpful.\\nBut c\\'mon. Sometimes a little extra customer service goes a long way. (I sent\\na letter to La Cie\\'s customer service when the first drive was returned and I\\nasked them for a credit on the price difference since I had purchased the drive\\nthree weeks before they slashed the price. I told them I would like to apply\\nthe credit toward the purchase of another La Cie product. They didn\\'t even \\nhave the courtesy to reply one way or the other.)\\n\\nWhat\\'s the moral of this story? I\\'m not sure. But I do know I won\\'t buy any\\nother products from La Cie in the future.\\n\\nBill Krauthammer\\nf2ehg786@umiami.ir.miami.edu\\n\\nPS Please don\\'t email or post about how good your La Cie product and service\\nhas been. I\\'m not suggesting that they are not a good company or anything like\\nthat. All I\\'m saying is that I\\'ve had a disappointing experience with them and\\nI\\'ll be taking my business elsewhere in the future.\\n\\n'),\n (1.326906547407963,\n  'From: fredm@media.mit.edu (Fred G Martin)\\nSubject: Re: Put ex. syquest in Centris 610?\\nOrganization: MIT Media Laboratory\\nLines: 54\\n\\nI\\'ve just installed a 5.25\" tape backup in my C610; lot of the issues\\nare the same.  So, to answer your questions...\\n\\nIn article <1993Apr16.141820.1@cstp.umkc.edu> kmoffatt@cstp.umkc.edu writes:\\n\\n> My PLI 80M syquest drive has a wire from the\\n> drive to an id# switch on the outside of the case.  Where do I connect\\n> this switch??  Can the computer just \"tell\" with internal drives?\\n\\nYou probably want to hard-wire the SCSI ID with shorting jumpers.  Put\\nit at a convenient number like \"1\".  You *could* cut a hole in the\\nback of the machine to route the ID switch, but why go through the\\nhassle?  You probably won\\'t be needing to frequently change the ID of\\nyour internal drive.\\n\\n>\\tI noticed that the drive will lay over part of the motherboard (I\\n>didn\\'t look closely, but I seem to recall it laying over the ram that\\'s\\n>soldered onto the motherboard?  Would that cause problems?\\n\\nYeah, when I first installed the tape drive I was a little concerned\\ntoo.  But it\\'s no problem, the device is designed to fit just fine\\nwith the overhang.  It shouldn\\'t reach back beyond the ROM/RAM/VRAM\\nSIMMs, though.\\n\\n>\\tOne last question!  Is there anywhere to order a faceplate cover?  \\n>the drive\\'s front panel is smaller than the space left in the case (the\\n>drive\\'s panel is the same size as the spotsBM clone\\'s cases).  Should I just\\n>cut a hole in the plastic panel that is currently holding tmpty place?\\n\\nYou can special-order parts to mount the device from your local Apple\\ndealer.  The relevant parts are:\\n\\n  922-0358  blank bezel faceplate\\n  922-0850  CD-ROM carrier [i.e., generic 5.25\" device mounting bracket]\\n\\nNote Apple\\'s unfortunate choice of name for the slide-in bracket to\\nmount a 5.25\" device.  The service techs I talked to said, \"Oh sure,\\nwe stock those.\"  Of course they were thinking of the CD caddies to\\nhold a CD disk when you stick it in the drive.\\n\\nAs far as I can tell, Apple does not sell a bezel faceplate already\\ncut out for a standard 5.25\" device.  (Why not?  They advertise\\nthese machines as being able to accept any standard device in the\\n5.25\" bay, why not provide the faceplate?)   They do sell a cutout for\\ntheir CD-ROM drive (of course), but that\\'s of no use.\\n\\nI\\'m going to hack up the extra bezel I ordered to make a cutout for my\\ntape drive, which is a standard 5.25\" device.\\n\\nGood luck with your SyQuest.\\n\\n\\t-Fred\\n\\n\\n'),\n (1.3312707697857975,\n  'Subject: Put ex. syquest in Centris 610?\\nFrom: kmoffatt@cstp.umkc.edu\\nOrganization: UM - Kansas City, Computer Science\\nNNTP-Posting-Host: vax2.cstp.umkc.edu\\nLines: 17\\n\\nI remember reading a thread a few days ago that mentioned removing an external\\nsyquest drive from its case and dropping it in the internal drive of a Centris.\\n. . I was going to do that with my 610, but had a couple of questions.  My\\nPLI 80M syquest drive has a wire from the drive to an id# switch on the\\noutside of the case.  Where do I connect this switch??  Can the computer just\\n\"tell\" with internal drives?  \\n\\tI noticed that the drive will lay over part of the motherboard (I\\ndidn\\'t look closely, but I seem to recall it laying over the ram that\\'s\\nsoldered onto the motherboard?  Would that cause problems?\\n\\tOne last question!  Is there anywhere to order a faceplate cover?  \\nthe drive\\'s front panel is smaller than the space left in the case (the\\ndrive\\'s panel is the same size as the spotsBM clone\\'s cases).  Should I just\\ncut a hole in the plastic panel that is currently holding tmpty place?\\n\\nAns are welcomed!  Thanks!\\nKeith Moffatt\\nKMOFFATT@VAX2.CSTP.UMKC.EDU\\n'),\n (1.3357394829442586,\n  'From: hlu@eecs.wsu.edu (HJ Lu)\\nSubject: Re: Booting from B drive\\nOrganization: School of EECS, Washington State University\\nLines: 17\\n\\nIn article <1993Apr18.185226.27273@mcshub.dcss.mcmaster.ca>, yee@nimios.eng.mcmaster.ca (Paul Yee) writes:\\n|> In article <khan0095.735001731@nova> khan0095@nova.gmi.edu (Mohammad Razi Khan) writes:\\n|> >glang@slee01.srl.ford.com (Gordon Lang) writes:\\n|> >\\n|> >>David Weisberger (djweisbe@unix.amherst.edu) wrote:\\n|> >>: I have a 5 1/4\" drive as drive A.  How can I make the system boot from\\n|> >>: my 3 1/2\" B drive? \\n|> \\n|> [intermediate reply suggesting cable switch deleted]\\n|> \\n\\n\\nI heard boot_b.zip could do exactly what you wanted without touching\\nanything. Check it out with archie.\\n\\n\\nH.J.\\n'),\n (1.3359320712918348,\n  'From: jdresser@altair.tymnet.com (Jay Dresser)\\nSubject: HELP! with Olivetti floppy\\nLines: 13\\nNntp-Posting-Host: altair\\n\\n\\nWe are trying to connect an Olivetti XM4311 5\" floppy drive as the second\\ndrive on a Panasonic 286 machine.  It seems to sort of talk to it (gets it\\nspinning and stepping) but gives a \"Disk not ready\" error.\\n\\nThere are two jumpers (which seem to work best open), a 3 position DIP\\nswitch, and a 8 position DIP switch.  We don\\'t know how to set the DIP\\nswitches and think that may be the problem.\\n\\nAny information, or advice (other than \"junk the stupid thing\" :) would be\\nmost appreciated, thanks.  (email reply preferred).\\n\\njdresser@tymnet.com\\n'),\n (1.348444027674916,\n  'From: paladin@world.std.com (Thomas G Schlatter)\\nSubject: Re: Bernoulli Drives/Disks...\\nOrganization: The World Public Access UNIX, Brookline, MA\\nLines: 30\\n\\nIn article <1rhm0j$6cg@agate.berkeley.edu> nilayp@violet.berkeley.edu (Nilay Patel;;;;RC38) writes:\\n>In article <C62onK.F7A@netnews.jhuapl.edu> ncmoore2@netnews.jhuapl.edu (Nathan Moore) writes:\\n>>nilayp@violet.berkeley.edu (Nilay Patel) writes:\\n>\\n>>>I am looking for Bernoulli removable tapes for the 20/20 drive..\\n>>>Don\\'t laugh ... I am serious...\\n>>>If you have any 20 MB tapes lying around that you would like to get rid of,\\n>>>please mail me ... \\n>>\\n>>>-- Nilay Patel\\n>>>nilayp@violet.berkeley.edu\\n>\\n>>You do mean disks, don\\'t you, not tapes?  You forgot to say whether you\\n>>were looking for the old 8\" or the newer 5.25\".\\n>\\n>Well...I need the old 8\" disks ... You are right, disks is a better word,\\n>but they are so big and calling them disks is kind of funny ... but the\\n>appropriate word is disks ...\\n\\nGee, I remember the old 8\" FLOPPY disks we used on an S-100 CP/M system\\nback in high school.  Not to mention those old 24\" multi-platter disk \\npacks that held about 15MB that went in the big washing machine\\ndrives at the local college I took some programming classes at.\\nAnd this was even in the early \\'80\\'s....\\n\\nTom\\npaladin@world.std.com\\n\\n\"A disk is a disk, no matter how great or how small...\"\\nparaphrasing Gulliver\\'s Travels\\n'),\n (1.3515670153910975,\n  'From: dtodd@titan.ucs.umass.edu (David M. Todd)\\nSubject: Swap boot drive on 486\\nOrganization: University of Massachusetts, Amherst\\nLines: 11\\nReply-To: David.Todd@Psych.UMass.EDU\\nNNTP-Posting-Host: titan.ucs.umass.edu\\n\\n\\nI have a 486 machine with a 3.5\" A: drive and a 5.25\" B: drive.  I\\nwant to swap them so 3.5\" drive is A:  What do I have to do?\\n\\nTIA\\n\\n\\n|~~~~~~~~~~~~~~~~~~~~~~~~~~~~~ David M. Todd ~~~~~~~~~~~~~~~~~~~~~~~~~~~~~~~~|\\n|Department of Psychology, University of Massachusetts, Amherst, MA 01003 USA|\\n|Phone: 413/545-0158 ___ <David.Todd@Psych.UMass.EDU> ____  Fax: 413/545-0996|\\n\\n'),\n (1.3549412732081934,\n  'From: balog@eniac.seas.upenn.edu (Eric J Balog)\\nSubject: SWITCH 3.5\" TO A:?\\nOrganization: University of Pennsylvania\\nLines: 39\\nNntp-Posting-Host: eniac.seas.upenn.edu\\n\\nHi!\\n\\nI\\'d like to switch my floppy drives so that my 3.5\" b: drive becomes a:, while\\nmy 5.25\" a: becomes b:. I\\'m having a few problems, though.\\n\\nI know that the ribbon cable must be switched, as well as the CMOS settings, \\nto reflect this change, and I think that I\\'ve done that correctly. However, the\\ndrives do not operate correctly in this configuration. From the C:> prompt, if \\nI type a:, the 5.25\" drive light comes on; if I type b:, both the light for the\\n5.25\" and 3.5\" drives come on.\\n\\nThere are some jumpers on each drive:\\n5.25\"  Label   Original Pos.   Pos. I changed it to\\n        DS0      ON               OFF\\n\\tDS1\\t OFF\\t\\t  ON\\n\\tDS2\\t ON\\t\\t  ON\\n\\tDS3\\t OFF\\t\\t  OFF\\n\\tIO\\t OFF\\t\\t  OFF\\n\\tMS1\\t OFF\\t\\t  OFF\\n\\tD-R\\t ON \\t\\t  ON\\n\\tMS2\\t ON\\t\\t  ON\\n\\tFG\\t OFF\\t\\t  OFF\\n\\n3.5\"    DS0\\t OFF\\t\\t  ON\\n\\tDS1\\t ON\\t\\t  OFF\\n\\tDS2\\t OFF\\t\\t  OFF\\n\\tDS3\\t OFF\\t\\t  OFF\\n\\tMM\\t ON\\t\\t  ON\\n\\tDC\\t ON\\t\\t  ON\\n\\tMD\\t OFF\\t\\t  OFF\\n\\tTTL/C-MO8 ON\\t\\t  ON\\n\\n\\nAny help or suggestions would be greatly appreciated.\\n\\nThanks in advance.\\n\\nEric Balog\\nbalog@eniac.seas.upenn.edu\\n'),\n (1.3622958755575492,\n  \"Subject: Re: DOS 6.0\\nFrom: venable@faculty.coe.wvu.edu (Wallace Venable)\\nOrganization: WVU College of Engineering\\nNntp-Posting-Host: 157.182.80.85\\nLines: 10\\n\\n\\n>I know of two people who have horrer stories about the DOS 6.0.\\n>That's 100% of the people I know with DOS 6.0. Both have\\n>had to reformat their disks and start over.\\n\\n\\tI used the standard installation program to put MS-DOS 6.0 on my\\nmachine with Stacker 3.0 already installed.  No problems.  I kept Stacker,\\nrather than switch.\\n\\tI am very pleased with the memory I gained since I did not have a\\nmemory manager.  I also like the multiple boot feature.\\n\"),\n (1.3656514107850555,\n  'From: im14u2c@camelot.bradley.edu (Joe Zbiciak)\\nSubject: Re: Booting from B drive\\nNntp-Posting-Host: camelot.bradley.edu\\nOrganization: Happy Campers USA\\nLines: 25\\n\\nIn <C5nvvx.ns@mts.mivj.ca.us> rpao@mts.mivj.ca.us (Roger C. Pao) writes:\\n[much discussion about switching 5.25\" and 3.5\" drives removed]\\n\\nAnother (albeit strange) option is using a program like 800 II\\n(available via anonymous FTP at many major sites), or FDFORMAT\\n(also available via anonymous FTP), that allows you to format\\n5.25HD disks to 1.44Meg, or 3.5\"HD disks to 1.2Meg (along with\\nmany MANY other formats!) so you can DISKCOPY (yes, the broken\\nMeSsy-DOS DISKCOPY!) the 5.25\" disks onto 3.5\" disks or vice\\nversa...  I use this techniques with \"NON-DOS\" self-booting \\ngame disks on my old Tandy 1000, and it works...  Another program\\nnamed Teledisk (shareware--available on many major BBS\\'s) will\\nalso make the weird format disks, provided you have 800 II\\nor FDFormat installed....  Some disks that won\\'t DISKCOPY\\nproperly can be readily Teledisk\\'d into the proper format...\\nAt least this is a software solution for a hardware/BIOS \\ndeficiency, eh? \\n\\n\\n--\\nJoseph Zbiciak                         im14u2c@camelot.bradley.edu\\n[====Disclaimer--If you believe any of this, check your head!====]\\n------------------------------------------------------------------\\n\\nNuke the Whales!\\n'),\n (1.403064357322947,\n  'From: ncmoore2@netnews.jhuapl.edu (Nathan Moore)\\nSubject: Re: Bernoulli Drives/Disks...\\nOrganization: JHU/Applied Physics Laboratory\\nLines: 22\\n\\nnilayp@violet.berkeley.edu (Nilay Patel) writes:\\n\\n>I am looking for Bernoulli removable tapes for the 20/20 drive..\\n\\n>Don\\'t laugh ... I am serious...\\n\\n>If you have any 20 MB tapes lying around that you would like to get rid of,\\n>please mail me ... \\n\\n>-- Nilay Patel\\n>nilayp@violet.berkeley.edu\\n\\nYou do mean disks, don\\'t you, not tapes?  You forgot to say whether you\\nwere looking for the old 8\" or the newer 5.25\".\\n\\nSorry, just use them at work and don\\'t think they would appreciate it.\\n\\n-- \\nNathan C. Moore\\nThe Johns Hopkins University / Applied Physics Laboratory\\nncmoore2@aplcomm.jhuapl.edu      CIS: 70702,1576\\nPlease note above address for email replies.\\n'),\n (1.405347798363946,\n  'From: nilayp@violet.berkeley.edu (Nilay Patel;;;;RC38)\\nSubject: Re: Bernoulli Drives/Disks...\\nOrganization: University of California, Berkeley\\nLines: 20\\nNNTP-Posting-Host: violet.berkeley.edu\\n\\nIn article <C62onK.F7A@netnews.jhuapl.edu> ncmoore2@netnews.jhuapl.edu (Nathan Moore) writes:\\n>nilayp@violet.berkeley.edu (Nilay Patel) writes:\\n\\n>>I am looking for Bernoulli removable tapes for the 20/20 drive..\\n>>Don\\'t laugh ... I am serious...\\n>>If you have any 20 MB tapes lying around that you would like to get rid of,\\n>>please mail me ... \\n>\\n>>-- Nilay Patel\\n>>nilayp@violet.berkeley.edu\\n\\n>You do mean disks, don\\'t you, not tapes?  You forgot to say whether you\\n>were looking for the old 8\" or the newer 5.25\".\\n\\nWell...I need the old 8\" disks ... You are right, disks is a better word,\\nbut they are so big and calling them disks is kind of funny ... but the\\nappropriate word is disks ...\\n\\n-- Nilay Patel\\nnilayp@violet.berkeley.edu\\n')]"
      ]
     },
     "execution_count": 134,
     "metadata": {},
     "output_type": "execute_result"
    }
   ],
   "source": [
    "similar = []    # 相似文章\n",
    "for i in similar_indices:\n",
    "    dis = sp.linalg.norm((new_post_km_vec - vectorized[i]).toarray())\n",
    "    similar.append((dis, train_data.data[i]))\n",
    "sorted(similar)"
   ]
  },
  {
   "cell_type": "code",
   "execution_count": 135,
   "metadata": {
    "collapsed": false
   },
   "outputs": [
    {
     "name": "stdout",
     "output_type": "stream",
     "text": [
      "(1.240525206354146, 'From: rtfuhge@immd8.informatik.uni-erlangen.de (Robert Fuhge)\\nSubject: Re: Booting from B drive\\nOrganization: University of Erlangen, csd. AI\\nNNTP-Posting-Host: faui8s3.informatik.uni-erlangen.de\\nLines: 36\\n\\nHi!\\n\\nI think VGA-Copy can do what you need. \\nIf you create a new floppy for your a: drive (that is the 5 1/4\"), turn on\\nthe \"modify\" switch of vga-copy.\\nWhen you boot using this diskette, a message appears:\\n\\nThis is no system disk, you can\\n1) replace disk with another,\\n2) boot from Harddisk or\\n3) switch drives and reboot (that is, a: becomes b:, b: becomes a:)\\nType your choice:\\n\\nWhen you select the third item, you can boot from b: which is now called a: .\\nSeems to work very good, for example booting drdos6 from the installation disks\\nin 3.5\" format was no problem for a friend of mine (I have only a 3.5\" a: drive)\\n\\nHope that helps\\nRobert\\n\\nP.S.: VGA-Copy is shareware, so it\\'s easy to get. Newest Version seems to be 5.0 .\\n\\n-- \\n+-----------------------------------------------------------------------------+\\n|  Robert Fuhge,  Haagstrasse 17,  8520 Erlangen,  Tel. privat: 09131/204103  |\\n|  Email: rtfuhge@cip.informatik.uni-erlangen.de  (demnaechst 91054 Erlangen) |\\n+-----------------------------------------------------------------------------+\\n|  \"Wars are not for to see who is right, but who is left ... \"               |\\n+-----------------------------------------------------------------------------+\\n---\\n+-----------------------------------------------------------------------------+\\n|  Robert Fuhge,  Haagstrasse 17,  8520 Erlangen,  Tel. privat: 09131/204103  |\\n|  Email: rtfuhge@cip.informatik.uni-erlangen.de  (demnaechst 91054 Erlangen) |\\n+-----------------------------------------------------------------------------+\\n|  \"Wars are not for to see who is right, but who is left ... \"               |\\n+-----------------------------------------------------------------------------+\\n')\n"
     ]
    }
   ],
   "source": [
    "print(similar[-1])"
   ]
  },
  {
   "cell_type": "code",
   "execution_count": 140,
   "metadata": {},
   "outputs": [
    {
     "data": {
      "text/plain": [
       "-2177.7630551137727"
      ]
     },
     "execution_count": 140,
     "metadata": {},
     "output_type": "execute_result"
    }
   ],
   "source": [
    "test = vectorizer_km.transform(test_data.data)\n",
    "km.score(test)"
   ]
  },
  {
   "cell_type": "markdown",
   "metadata": {},
   "source": [
    "#k-means示例"
   ]
  },
  {
   "cell_type": "code",
   "execution_count": 178,
   "metadata": {},
   "outputs": [],
   "source": [
    "import matplotlib.pyplot as plt\n",
    "import seaborn as sns;sns.set()\n",
    "from sklearn.datasets.samples_generator import make_blobs"
   ]
  },
  {
   "cell_type": "code",
   "execution_count": 179,
   "metadata": {},
   "outputs": [],
   "source": [
    "x, y = make_blobs(n_samples=300, centers=4,cluster_std=0.6, random_state=0)"
   ]
  },
  {
   "cell_type": "code",
   "execution_count": 180,
   "metadata": {},
   "outputs": [
    {
     "data": {
      "image/png": "[encoded data removed]",
      "text/plain": [
       "<Figure size 432x288 with 1 Axes>"
      ]
     },
     "metadata": {},
     "output_type": "display_data"
    }
   ],
   "source": [
    "plt.scatter(x[:,0], x[:,1], s=30)\n",
    "plt.show()"
   ]
  },
  {
   "cell_type": "code",
   "execution_count": 181,
   "metadata": {},
   "outputs": [
    {
     "name": "stdout",
     "output_type": "stream",
     "text": [
      "[0 2 1 2 0 0 3 1 2 2 3 2 1 2 0 1 1 0 3 3 0 0 1 3 3 1 0 1 3 1 2 2 1 2 2 2 2\n 2 3 0 1 3 1 1 3 3 2 3 2 0 3 0 2 0 0 3 2 3 2 0 2 1 2 3 3 3 2 0 2 3 1 3 2 3\n 3 2 3 1 0 2 0 1 0 0 2 1 0 1 2 2 1 0 2 3 3 1 0 0 1 3 2 0 2 0 1 0 0 1 2 1 3\n 3 0 2 0 1 2 0 0 1 3 0 3 0 0 0 0 3 0 3 2 3 3 0 2 3 3 2 1 2 2 3 1 3 1 3 2 1\n 2 2 2 1 2 1 0 3 2 3 0 1 2 1 1 0 1 3 3 1 0 1 1 2 0 1 3 2 0 0 1 3 0 1 3 3 1\n 1 1 1 0 2 1 3 1 1 3 3 3 1 3 2 1 3 0 3 1 2 3 2 1 2 1 3 1 1 2 3 3 0 0 1 2 0\n 0 3 0 3 1 2 2 1 1 2 1 0 3 1 0 3 2 3 0 1 0 2 2 2 2 3 3 2 1 3 0 1 3 3 3 0 0\n 2 1 1 3 0 2 3 1 2 1 0 0 3 3 1 0 0 0 1 2 2 0 0 1 0 0 0 2 3 2 1 0 0 2 2 2 0\n 0 1 2 3]\n"
     ]
    }
   ],
   "source": [
    "cluster_num = 4\n",
    "km1 = KMeans(n_clusters=cluster_num)\n",
    "km1.fit(x)\n",
    "y_predict = km1.predict(x)\n",
    "print(y_predict)"
   ]
  },
  {
   "cell_type": "code",
   "execution_count": 183,
   "metadata": {},
   "outputs": [
    {
     "data": {
      "image/png": "[encoded data removed]",
      "text/plain": [
       "<Figure size 432x288 with 1 Axes>"
      ]
     },
     "metadata": {},
     "output_type": "display_data"
    }
   ],
   "source": [
    "plt.scatter(x[:,0], x[:,1], c=y_predict, s=30, cmap='rainbow')\n",
    "plt.show()"
   ]
  },
  {
   "cell_type": "code",
   "execution_count": null,
   "metadata": {},
   "outputs": [],
   "source": []
  }
 ],
 "metadata": {
  "kernelspec": {
   "display_name": "Python 2",
   "language": "python",
   "name": "python2"
  },
  "language_info": {
   "codemirror_mode": {
    "name": "ipython",
    "version": 2
   },
   "file_extension": ".py",
   "mimetype": "text/x-python",
   "name": "python",
   "nbconvert_exporter": "python",
   "pygments_lexer": "ipython2",
   "version": "2.7.6"
  }
 },
 "nbformat": 4,
 "nbformat_minor": 0
}
